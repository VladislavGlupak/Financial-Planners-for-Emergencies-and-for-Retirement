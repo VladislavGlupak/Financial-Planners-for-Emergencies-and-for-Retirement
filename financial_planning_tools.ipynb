{
 "cells": [
  {
   "cell_type": "markdown",
   "metadata": {},
   "source": [
    "# Financial Planning with APIs and Simulations"
   ]
  },
  {
   "cell_type": "code",
   "execution_count": 1,
   "metadata": {},
   "outputs": [],
   "source": [
    "# Import the required libraries and dependencies\n",
    "import os\n",
    "import requests\n",
    "import json\n",
    "import pandas as pd\n",
    "from dotenv import load_dotenv\n",
    "import alpaca_trade_api as tradeapi\n",
    "from MCForecastTools import MCSimulation\n",
    "\n",
    "%matplotlib inline"
   ]
  },
  {
   "cell_type": "code",
   "execution_count": 2,
   "metadata": {},
   "outputs": [
    {
     "data": {
      "text/plain": [
       "True"
      ]
     },
     "execution_count": 2,
     "metadata": {},
     "output_type": "execute_result"
    }
   ],
   "source": [
    "# Load the environment variables from the .env file\n",
    "#by calling the load_dotenv function\n",
    "load_dotenv()"
   ]
  },
  {
   "cell_type": "markdown",
   "metadata": {},
   "source": [
    "## Part 1: Create a Financial Planner for Emergencies"
   ]
  },
  {
   "cell_type": "markdown",
   "metadata": {},
   "source": [
    "### Evaluate the Cryptocurrency Wallet by Using the Requests Library"
   ]
  },
  {
   "cell_type": "code",
   "execution_count": 3,
   "metadata": {},
   "outputs": [],
   "source": [
    "# The current number of coins for each cryptocurrency asset held in the portfolio.\n",
    "btc_coins = 1.2\n",
    "eth_coins = 5.3"
   ]
  },
  {
   "cell_type": "markdown",
   "metadata": {},
   "source": [
    "#### Step 1: Create a variable named `monthly_income`, and set its value to `12000`."
   ]
  },
  {
   "cell_type": "code",
   "execution_count": 4,
   "metadata": {},
   "outputs": [],
   "source": [
    "# The monthly amount for the member's household income\n",
    "monthly_income = 12000"
   ]
  },
  {
   "cell_type": "markdown",
   "metadata": {},
   "source": [
    "#### Review the endpoint URLs for the API calls to Free Crypto API in order to get the current pricing information for both BTC and ETH."
   ]
  },
  {
   "cell_type": "code",
   "execution_count": 5,
   "metadata": {},
   "outputs": [],
   "source": [
    "# The Free Crypto API Call endpoint URLs for the held cryptocurrency assets\n",
    "btc_url = \"https://api.alternative.me/v2/ticker/Bitcoin/?convert=USD\"\n",
    "eth_url = \"https://api.alternative.me/v2/ticker/Ethereum/?convert=USD\""
   ]
  },
  {
   "cell_type": "markdown",
   "metadata": {},
   "source": [
    "#### Step 2. Use the Requests library to get the current price (in US dollars) of Bitcoin (BTC) and Ethereum (ETH) by using the API endpoints that the starter code supplied."
   ]
  },
  {
   "cell_type": "code",
   "execution_count": 6,
   "metadata": {},
   "outputs": [
    {
     "name": "stdout",
     "output_type": "stream",
     "text": [
      "{\n",
      "    \"data\": {\n",
      "        \"1\": {\n",
      "            \"circulating_supply\": 18933431,\n",
      "            \"id\": 1,\n",
      "            \"last_updated\": 1642548275,\n",
      "            \"max_supply\": 21000000,\n",
      "            \"name\": \"Bitcoin\",\n",
      "            \"quotes\": {\n",
      "                \"USD\": {\n",
      "                    \"market_cap\": 804957683686,\n",
      "                    \"percent_change_1h\": 0.348650686653509,\n",
      "                    \"percent_change_24h\": 0.634774346717207,\n",
      "                    \"percent_change_7d\": 1.50797367564718,\n",
      "                    \"percentage_change_1h\": 0.348650686653509,\n",
      "                    \"percentage_change_24h\": 0.634774346717207,\n",
      "                    \"percentage_change_7d\": 1.50797367564718,\n",
      "                    \"price\": 42501.0,\n",
      "                    \"volume_24h\": 18910428876\n",
      "                }\n",
      "            },\n",
      "            \"rank\": 1,\n",
      "            \"symbol\": \"BTC\",\n",
      "            \"total_supply\": 18933431,\n",
      "            \"website_slug\": \"bitcoin\"\n",
      "        }\n",
      "    },\n",
      "    \"metadata\": {\n",
      "        \"error\": null,\n",
      "        \"num_cryptocurrencies\": 3105,\n",
      "        \"timestamp\": 1642548275\n",
      "    }\n",
      "}\n"
     ]
    }
   ],
   "source": [
    "# Using the Python requests library, make an API call to access the current price of BTC\n",
    "btc_response = requests.get(btc_url).json()\n",
    "\n",
    "# Use the json.dumps function to review the response data from the API call\n",
    "# Use the indent and sort_keys parameters to make the response object readable\n",
    "print(json.dumps(btc_response, indent=4, sort_keys=True))"
   ]
  },
  {
   "cell_type": "code",
   "execution_count": 7,
   "metadata": {},
   "outputs": [
    {
     "name": "stdout",
     "output_type": "stream",
     "text": [
      "{\n",
      "    \"data\": {\n",
      "        \"1027\": {\n",
      "            \"circulating_supply\": 119216539,\n",
      "            \"id\": 1027,\n",
      "            \"last_updated\": 1642548214,\n",
      "            \"max_supply\": 0,\n",
      "            \"name\": \"Ethereum\",\n",
      "            \"quotes\": {\n",
      "                \"USD\": {\n",
      "                    \"market_cap\": 378522414610,\n",
      "                    \"percent_change_1h\": 0.11908151550756,\n",
      "                    \"percent_change_24h\": -1.43817683616519,\n",
      "                    \"percent_change_7d\": 2.76960717058358,\n",
      "                    \"percentage_change_1h\": 0.11908151550756,\n",
      "                    \"percentage_change_24h\": -1.43817683616519,\n",
      "                    \"percentage_change_7d\": 2.76960717058358,\n",
      "                    \"price\": 3172.22,\n",
      "                    \"volume_24h\": 12729703433\n",
      "                }\n",
      "            },\n",
      "            \"rank\": 2,\n",
      "            \"symbol\": \"ETH\",\n",
      "            \"total_supply\": 119216539,\n",
      "            \"website_slug\": \"ethereum\"\n",
      "        }\n",
      "    },\n",
      "    \"metadata\": {\n",
      "        \"error\": null,\n",
      "        \"num_cryptocurrencies\": 3105,\n",
      "        \"timestamp\": 1642548214\n",
      "    }\n",
      "}\n"
     ]
    }
   ],
   "source": [
    "# Using the Python requests library, make an API call to access the current price ETH\n",
    "eth_response = requests.get(eth_url).json()\n",
    "\n",
    "# Use the json.dumps function to review the response data from the API call\n",
    "# Use the indent and sort_keys parameters to make the response object readable\n",
    "print(json.dumps(eth_response, indent=4, sort_keys=True))"
   ]
  },
  {
   "cell_type": "markdown",
   "metadata": {},
   "source": [
    "#### Step 3: Navigate the JSON response object to access the current price of each coin, and store each in a variable."
   ]
  },
  {
   "cell_type": "code",
   "execution_count": 8,
   "metadata": {},
   "outputs": [
    {
     "name": "stdout",
     "output_type": "stream",
     "text": [
      "Current price of BTC is 42501.0\n"
     ]
    }
   ],
   "source": [
    "# Navigate the BTC response object to access the current price of BTC\n",
    "btc_price = btc_response[\"data\"][\"1\"][\"quotes\"][\"USD\"][\"price\"]\n",
    "\n",
    "# Print the current price of BTC\n",
    "print(f\"Current price of BTC is {btc_price}\")"
   ]
  },
  {
   "cell_type": "code",
   "execution_count": 9,
   "metadata": {},
   "outputs": [
    {
     "name": "stdout",
     "output_type": "stream",
     "text": [
      "Current price of ETH is 3172.22\n"
     ]
    }
   ],
   "source": [
    "# Navigate the BTC response object to access the current price of ETH\n",
    "eth_price = eth_response[\"data\"][\"1027\"][\"quotes\"][\"USD\"][\"price\"]\n",
    "\n",
    "# Print the current price of ETH\n",
    "print(f\"Current price of ETH is {eth_price}\")"
   ]
  },
  {
   "cell_type": "markdown",
   "metadata": {},
   "source": [
    "### Step 4: Calculate the value, in US dollars, of the current amount of each cryptocurrency and of the entire cryptocurrency wallet."
   ]
  },
  {
   "cell_type": "code",
   "execution_count": 10,
   "metadata": {},
   "outputs": [
    {
     "name": "stdout",
     "output_type": "stream",
     "text": [
      "Current value of the holdings in BTC is  51001.20\n"
     ]
    }
   ],
   "source": [
    "# Compute the current value of the BTC holding \n",
    "btc_value = btc_coins * btc_price\n",
    "\n",
    "# Print current value of your holding in BTC\n",
    "print(f\"Current value of the holdings in BTC is {btc_value: .2f}\")"
   ]
  },
  {
   "cell_type": "code",
   "execution_count": 11,
   "metadata": {},
   "outputs": [
    {
     "name": "stdout",
     "output_type": "stream",
     "text": [
      "Current value of the holdings in ETH is  16812.77\n"
     ]
    }
   ],
   "source": [
    "# Compute the current value of the ETH holding \n",
    "eth_value = eth_coins * eth_price\n",
    "\n",
    "# Print current value of your holding in ETH\n",
    "print(f\"Current value of the holdings in ETH is {eth_value: .2f}\")"
   ]
  },
  {
   "cell_type": "code",
   "execution_count": 12,
   "metadata": {},
   "outputs": [
    {
     "name": "stdout",
     "output_type": "stream",
     "text": [
      "Current cryptocurrency wallet balance is  67813.97\n"
     ]
    }
   ],
   "source": [
    "# Compute the total value of the cryptocurrency wallet\n",
    "# Add the value of the BTC holding to the value of the ETH holding\n",
    "total_crypto_wallet = btc_value + eth_value\n",
    "\n",
    "# Print current cryptocurrency wallet balance\n",
    "print(f\"Current cryptocurrency wallet balance is {total_crypto_wallet: .2f}\")"
   ]
  },
  {
   "cell_type": "markdown",
   "metadata": {},
   "source": [
    "### Evaluate the Stock and Bond Holdings by Using the Alpaca SDK"
   ]
  },
  {
   "cell_type": "markdown",
   "metadata": {},
   "source": [
    "#### Review the total number of shares held in both (SPY) and (AGG)."
   ]
  },
  {
   "cell_type": "code",
   "execution_count": 13,
   "metadata": {},
   "outputs": [],
   "source": [
    "# Current amount of shares held in both the stock (SPY) and bond (AGG) portion of the portfolio.\n",
    "spy_shares = 110\n",
    "agg_shares = 200"
   ]
  },
  {
   "cell_type": "markdown",
   "metadata": {},
   "source": [
    "#### Step 1: In the current folder, create an environment file (`.env`) to store the values of your Alpaca API key and Alpaca secret key."
   ]
  },
  {
   "cell_type": "markdown",
   "metadata": {},
   "source": [
    "#### Step 2: Set the variables for the Alpaca API and secret keys. Using the Alpaca SDK, create the Alpaca `tradeapi.REST` object. In this object, include the parameters for the Alpaca API key, the secret key, and the version number."
   ]
  },
  {
   "cell_type": "code",
   "execution_count": 14,
   "metadata": {},
   "outputs": [],
   "source": [
    "# Set the variables for the Alpaca API and secret keys\n",
    "alpaca_api_key = os.getenv(\"ALPACA_API_KEY\")\n",
    "alpaca_secret_key = os.getenv(\"ALPACA_SECRET_KEY\")\n",
    "\n",
    "# Create the Alpaca tradeapi.REST object\n",
    "alpaca = tradeapi.REST(\n",
    "    alpaca_api_key,\n",
    "    alpaca_secret_key,\n",
    "    api_version=\"v2\")"
   ]
  },
  {
   "cell_type": "markdown",
   "metadata": {},
   "source": [
    "#### Step 3: Set the following parameters for the Alpaca API call:"
   ]
  },
  {
   "cell_type": "code",
   "execution_count": 15,
   "metadata": {},
   "outputs": [],
   "source": [
    "# Set the tickers for both the bond and stock portion of the portfolio\n",
    "tickers = [\"AGG\",\"SPY\"]\n",
    "\n",
    "# Set timeframe to 1D \n",
    "timeframe = \"1D\"\n",
    "\n",
    "# Format current date as ISO format\n",
    "# Start and end date of 2020-08-07\n",
    "start_date = pd.Timestamp(\"2020-08-07\", tz=\"America/New_York\").isoformat()\n",
    "end_date = pd.Timestamp(\"2020-08-07\", tz=\"America/New_York\").isoformat()"
   ]
  },
  {
   "cell_type": "markdown",
   "metadata": {},
   "source": [
    "#### Step 4: Get the current closing prices for `SPY` and `AGG` by using the Alpaca `get_barset` function. Format the response as a Pandas DataFrame by including the `df` property at the end of the `get_barset` function."
   ]
  },
  {
   "cell_type": "code",
   "execution_count": 16,
   "metadata": {},
   "outputs": [
    {
     "data": {
      "text/html": [
       "<div>\n",
       "<style scoped>\n",
       "    .dataframe tbody tr th:only-of-type {\n",
       "        vertical-align: middle;\n",
       "    }\n",
       "\n",
       "    .dataframe tbody tr th {\n",
       "        vertical-align: top;\n",
       "    }\n",
       "\n",
       "    .dataframe thead tr th {\n",
       "        text-align: left;\n",
       "    }\n",
       "\n",
       "    .dataframe thead tr:last-of-type th {\n",
       "        text-align: right;\n",
       "    }\n",
       "</style>\n",
       "<table border=\"1\" class=\"dataframe\">\n",
       "  <thead>\n",
       "    <tr>\n",
       "      <th></th>\n",
       "      <th colspan=\"5\" halign=\"left\">AGG</th>\n",
       "      <th colspan=\"5\" halign=\"left\">SPY</th>\n",
       "    </tr>\n",
       "    <tr>\n",
       "      <th></th>\n",
       "      <th>open</th>\n",
       "      <th>high</th>\n",
       "      <th>low</th>\n",
       "      <th>close</th>\n",
       "      <th>volume</th>\n",
       "      <th>open</th>\n",
       "      <th>high</th>\n",
       "      <th>low</th>\n",
       "      <th>close</th>\n",
       "      <th>volume</th>\n",
       "    </tr>\n",
       "    <tr>\n",
       "      <th>time</th>\n",
       "      <th></th>\n",
       "      <th></th>\n",
       "      <th></th>\n",
       "      <th></th>\n",
       "      <th></th>\n",
       "      <th></th>\n",
       "      <th></th>\n",
       "      <th></th>\n",
       "      <th></th>\n",
       "      <th></th>\n",
       "    </tr>\n",
       "  </thead>\n",
       "  <tbody>\n",
       "    <tr>\n",
       "      <th>2020-08-07 00:00:00-04:00</th>\n",
       "      <td>119.66</td>\n",
       "      <td>119.73</td>\n",
       "      <td>119.395</td>\n",
       "      <td>119.445</td>\n",
       "      <td>8830420</td>\n",
       "      <td>333.28</td>\n",
       "      <td>334.88</td>\n",
       "      <td>332.3</td>\n",
       "      <td>334.55</td>\n",
       "      <td>98710236</td>\n",
       "    </tr>\n",
       "  </tbody>\n",
       "</table>\n",
       "</div>"
      ],
      "text/plain": [
       "                              AGG                                        SPY  \\\n",
       "                             open    high      low    close   volume    open   \n",
       "time                                                                           \n",
       "2020-08-07 00:00:00-04:00  119.66  119.73  119.395  119.445  8830420  333.28   \n",
       "\n",
       "                                                            \n",
       "                             high    low   close    volume  \n",
       "time                                                        \n",
       "2020-08-07 00:00:00-04:00  334.88  332.3  334.55  98710236  "
      ]
     },
     "execution_count": 16,
     "metadata": {},
     "output_type": "execute_result"
    }
   ],
   "source": [
    "# Use the Alpaca get_barset function to get current closing prices the portfolio\n",
    "df_portfolio = alpaca.get_barset(\n",
    "    tickers,\n",
    "    timeframe,\n",
    "    start = start_date,\n",
    "    end = end_date\n",
    ").df\n",
    "\n",
    "# Review the the Alpaca DataFrame\n",
    "df_portfolio.head()"
   ]
  },
  {
   "cell_type": "markdown",
   "metadata": {},
   "source": [
    "#### Step 5: Navigating the Alpaca response DataFrame, select the `SPY` and `AGG` closing prices, and store them as variables."
   ]
  },
  {
   "cell_type": "code",
   "execution_count": 17,
   "metadata": {},
   "outputs": [
    {
     "name": "stdout",
     "output_type": "stream",
     "text": [
      "The AGG closing price is 119.445.\n"
     ]
    }
   ],
   "source": [
    "# Access the closing price for AGG from the Alpaca DataFrame\n",
    "# Converting the value to a floating point number\n",
    "agg_close_price = float(df_portfolio[\"AGG\"][\"close\"])\n",
    "\n",
    "# Print the AGG closing price\n",
    "print (f\"The AGG closing price is {agg_close_price}.\")"
   ]
  },
  {
   "cell_type": "code",
   "execution_count": 18,
   "metadata": {},
   "outputs": [
    {
     "name": "stdout",
     "output_type": "stream",
     "text": [
      "The SPY closing price is 334.55.\n"
     ]
    }
   ],
   "source": [
    "# Access the closing price for SPY from the Alpaca DataFrame\n",
    "# Converting the value to a floating point number\n",
    "spy_close_price = float(df_portfolio[\"SPY\"][\"close\"])\n",
    "\n",
    "# Print the SPY closing price\n",
    "print (f\"The SPY closing price is {spy_close_price}.\")"
   ]
  },
  {
   "cell_type": "markdown",
   "metadata": {},
   "source": [
    "#### Step 6: Calculate the value, in US dollars, of the current amount of shares in each of the stock and bond portions of the portfolio, and print the results."
   ]
  },
  {
   "cell_type": "code",
   "execution_count": 19,
   "metadata": {},
   "outputs": [
    {
     "name": "stdout",
     "output_type": "stream",
     "text": [
      "The current value of the bond portfolio is 23889.0.\n"
     ]
    }
   ],
   "source": [
    "# Calculate the current value of the bond portion of the portfolio\n",
    "agg_value = agg_shares * agg_close_price\n",
    "\n",
    "# Print the current value of the bond portfolio\n",
    "print(f\"The current value of the bond portfolio is {agg_value}.\")"
   ]
  },
  {
   "cell_type": "code",
   "execution_count": 20,
   "metadata": {},
   "outputs": [
    {
     "name": "stdout",
     "output_type": "stream",
     "text": [
      "The current value of the stock portfolio is 36800.5.\n"
     ]
    }
   ],
   "source": [
    "# Calculate the current value of the stock portion of the portfolio\n",
    "spy_value = spy_shares * spy_close_price\n",
    "\n",
    "# Print the current value of the stock portfolio\n",
    "print(f\"The current value of the stock portfolio is {spy_value}.\")"
   ]
  },
  {
   "cell_type": "code",
   "execution_count": 21,
   "metadata": {},
   "outputs": [
    {
     "name": "stdout",
     "output_type": "stream",
     "text": [
      "Total value of bonds and stocks is 60689.5.\n"
     ]
    }
   ],
   "source": [
    "# Calculate the total value of the stock and bond portion of the portfolio\n",
    "total_stocks_bonds = agg_value + spy_value\n",
    "\n",
    "# Print the current balance of the stock and bond portion of the portfolio\n",
    "print(f\"Total value of bonds and stocks is {total_stocks_bonds}.\")"
   ]
  },
  {
   "cell_type": "code",
   "execution_count": 22,
   "metadata": {},
   "outputs": [
    {
     "name": "stdout",
     "output_type": "stream",
     "text": [
      "Total value of portfolio: 128503.466.\n"
     ]
    }
   ],
   "source": [
    "# Calculate the total value of the member's entire savings portfolio\n",
    "# Add the value of the cryptocurrency walled to the value of the total stocks and bonds\n",
    "total_portfolio = total_crypto_wallet + total_stocks_bonds\n",
    "\n",
    "# Print current cryptocurrency wallet balance\n",
    "print(f\"Total value of portfolio: {total_portfolio}.\")"
   ]
  },
  {
   "cell_type": "markdown",
   "metadata": {},
   "source": [
    "### Evaluate the Emergency Fund"
   ]
  },
  {
   "cell_type": "markdown",
   "metadata": {},
   "source": [
    "#### Step 1: Create a Python list named `savings_data` that has two elements. The first element contains the total value of the cryptocurrency wallet. The second element contains the total value of the stock and bond portions of the portfolio."
   ]
  },
  {
   "cell_type": "code",
   "execution_count": 23,
   "metadata": {},
   "outputs": [
    {
     "name": "stdout",
     "output_type": "stream",
     "text": [
      "Python list savings_data: [67813.966, 60689.5]\n"
     ]
    }
   ],
   "source": [
    "# Consolidate financial assets data into a Python list\n",
    "savings_data = [total_crypto_wallet, total_stocks_bonds]\n",
    "\n",
    "# Review the Python list savings_data\n",
    "print(f\"Python list savings_data: {savings_data}\")"
   ]
  },
  {
   "cell_type": "markdown",
   "metadata": {},
   "source": [
    "#### Step 2: Use the `savings_data` list to create a Pandas DataFrame named `savings_df`, and then display this DataFrame. The function to create the DataFrame should take the following three parameters:"
   ]
  },
  {
   "cell_type": "code",
   "execution_count": 24,
   "metadata": {},
   "outputs": [
    {
     "data": {
      "text/html": [
       "<div>\n",
       "<style scoped>\n",
       "    .dataframe tbody tr th:only-of-type {\n",
       "        vertical-align: middle;\n",
       "    }\n",
       "\n",
       "    .dataframe tbody tr th {\n",
       "        vertical-align: top;\n",
       "    }\n",
       "\n",
       "    .dataframe thead th {\n",
       "        text-align: right;\n",
       "    }\n",
       "</style>\n",
       "<table border=\"1\" class=\"dataframe\">\n",
       "  <thead>\n",
       "    <tr style=\"text-align: right;\">\n",
       "      <th></th>\n",
       "      <th>amount</th>\n",
       "    </tr>\n",
       "  </thead>\n",
       "  <tbody>\n",
       "    <tr>\n",
       "      <th>crypto</th>\n",
       "      <td>67813.966</td>\n",
       "    </tr>\n",
       "    <tr>\n",
       "      <th>stock/bond</th>\n",
       "      <td>60689.500</td>\n",
       "    </tr>\n",
       "  </tbody>\n",
       "</table>\n",
       "</div>"
      ],
      "text/plain": [
       "               amount\n",
       "crypto      67813.966\n",
       "stock/bond  60689.500"
      ]
     },
     "execution_count": 24,
     "metadata": {},
     "output_type": "execute_result"
    }
   ],
   "source": [
    "# Create a Pandas DataFrame called savings_df \n",
    "savings_df = pd.DataFrame(savings_data, columns = [\"amount\"], index=[\"crypto\",\"stock/bond\"])\n",
    "\n",
    "# Display the savings_df DataFrame\n",
    "savings_df"
   ]
  },
  {
   "cell_type": "markdown",
   "metadata": {},
   "source": [
    "#### Step 3: Use the `savings_df` DataFrame to plot a pie chart that visualizes the composition of the member’s portfolio. The y-axis of the pie chart uses `amount`. Be sure to add a title."
   ]
  },
  {
   "cell_type": "code",
   "execution_count": 25,
   "metadata": {},
   "outputs": [
    {
     "data": {
      "text/plain": [
       "<AxesSubplot:title={'center':\"The total value of the member's portfolio\"}, ylabel='amount'>"
      ]
     },
     "execution_count": 25,
     "metadata": {},
     "output_type": "execute_result"
    },
    {
     "data": {
      "image/png": "[encoded data removed]",
      "text/plain": [
       "<Figure size 432x432 with 1 Axes>"
      ]
     },
     "metadata": {},
     "output_type": "display_data"
    }
   ],
   "source": [
    "# Plot the total value of the member's portfolio (crypto and stock/bond) in a pie chart\n",
    "savings_df.plot.pie(y=\"amount\", figsize=(6, 6), title=\"The total value of the member's portfolio\")"
   ]
  },
  {
   "cell_type": "markdown",
   "metadata": {},
   "source": [
    "#### Step 4: Using Python, determine if the current portfolio has enough to create an emergency fund as part of the member’s financial plan. Ideally, an emergency fund should equal to three times the member’s monthly income. To do this, implement the following steps:"
   ]
  },
  {
   "cell_type": "markdown",
   "metadata": {},
   "source": [
    "##### Step 4-1: Create a variable named `emergency_fund_value`, and set it equal to three times the value of the member’s `monthly_income` of 12000. (You set this earlier in Part 1)."
   ]
  },
  {
   "cell_type": "code",
   "execution_count": 26,
   "metadata": {},
   "outputs": [],
   "source": [
    "# Create a variable named emergency_fund_value\n",
    "emergency_fund_value = monthly_income * 3"
   ]
  },
  {
   "cell_type": "markdown",
   "metadata": {},
   "source": [
    "##### Step 4-2: Create a series of three if statements to determine if the member’s total portfolio is large enough to fund the emergency portfolio:"
   ]
  },
  {
   "cell_type": "code",
   "execution_count": 27,
   "metadata": {},
   "outputs": [
    {
     "name": "stdout",
     "output_type": "stream",
     "text": [
      "Congratulating! You have enough money in this fund!\n"
     ]
    }
   ],
   "source": [
    "# Evaluate the possibility of creating an emergency fund with 3 conditions:\n",
    "if total_portfolio > emergency_fund_value:\n",
    "    print(\"Congratulating! You have enough money in this fund!\")\n",
    "elif total_portfolio == emergency_fund_value:\n",
    "    print(\"Congratulating! You are close to your financial goal!\")\n",
    "else:\n",
    "    print(f\"You are in {emergency_fund_value - total_portfolio} away from your financial goal.\")"
   ]
  },
  {
   "cell_type": "markdown",
   "metadata": {},
   "source": [
    "## Part 2: Create a Financial Planner for Retirement"
   ]
  },
  {
   "cell_type": "markdown",
   "metadata": {},
   "source": [
    "### Create the Monte Carlo Simulation"
   ]
  },
  {
   "cell_type": "markdown",
   "metadata": {},
   "source": [
    "#### Step 1: Make an API call via the Alpaca SDK to get 3 years of historical closing prices for a traditional 60/40 portfolio split: 60% stocks (SPY) and 40% bonds (AGG)."
   ]
  },
  {
   "cell_type": "code",
   "execution_count": 28,
   "metadata": {},
   "outputs": [],
   "source": [
    "# An end date of 2020-08-07 and work 3 years back from that date\n",
    "start_date = pd.Timestamp(\"2017-08-07\", tz=\"America/New_York\").isoformat()\n",
    "end_date = pd.Timestamp(\"2020-08-07\", tz=\"America/New_York\").isoformat()\n",
    "\n",
    "# Set number of rows to 1000 to retrieve the maximum amount of rows\n",
    "limit_row = 1000"
   ]
  },
  {
   "cell_type": "code",
   "execution_count": 29,
   "metadata": {},
   "outputs": [
    {
     "data": {
      "text/html": [
       "<div>\n",
       "<style scoped>\n",
       "    .dataframe tbody tr th:only-of-type {\n",
       "        vertical-align: middle;\n",
       "    }\n",
       "\n",
       "    .dataframe tbody tr th {\n",
       "        vertical-align: top;\n",
       "    }\n",
       "\n",
       "    .dataframe thead tr th {\n",
       "        text-align: left;\n",
       "    }\n",
       "\n",
       "    .dataframe thead tr:last-of-type th {\n",
       "        text-align: right;\n",
       "    }\n",
       "</style>\n",
       "<table border=\"1\" class=\"dataframe\">\n",
       "  <thead>\n",
       "    <tr>\n",
       "      <th></th>\n",
       "      <th colspan=\"5\" halign=\"left\">AGG</th>\n",
       "      <th colspan=\"5\" halign=\"left\">SPY</th>\n",
       "    </tr>\n",
       "    <tr>\n",
       "      <th></th>\n",
       "      <th>open</th>\n",
       "      <th>high</th>\n",
       "      <th>low</th>\n",
       "      <th>close</th>\n",
       "      <th>volume</th>\n",
       "      <th>open</th>\n",
       "      <th>high</th>\n",
       "      <th>low</th>\n",
       "      <th>close</th>\n",
       "      <th>volume</th>\n",
       "    </tr>\n",
       "    <tr>\n",
       "      <th>time</th>\n",
       "      <th></th>\n",
       "      <th></th>\n",
       "      <th></th>\n",
       "      <th></th>\n",
       "      <th></th>\n",
       "      <th></th>\n",
       "      <th></th>\n",
       "      <th></th>\n",
       "      <th></th>\n",
       "      <th></th>\n",
       "    </tr>\n",
       "  </thead>\n",
       "  <tbody>\n",
       "    <tr>\n",
       "      <th>2017-08-07 00:00:00-04:00</th>\n",
       "      <td>109.69</td>\n",
       "      <td>109.72</td>\n",
       "      <td>109.6066</td>\n",
       "      <td>109.6850</td>\n",
       "      <td>1425317</td>\n",
       "      <td>247.49</td>\n",
       "      <td>247.87</td>\n",
       "      <td>247.37</td>\n",
       "      <td>247.850</td>\n",
       "      <td>20901988</td>\n",
       "    </tr>\n",
       "    <tr>\n",
       "      <th>2017-08-08 00:00:00-04:00</th>\n",
       "      <td>109.67</td>\n",
       "      <td>109.69</td>\n",
       "      <td>109.5000</td>\n",
       "      <td>109.5810</td>\n",
       "      <td>1998999</td>\n",
       "      <td>247.51</td>\n",
       "      <td>248.91</td>\n",
       "      <td>246.83</td>\n",
       "      <td>247.291</td>\n",
       "      <td>44619069</td>\n",
       "    </tr>\n",
       "    <tr>\n",
       "      <th>2017-08-09 00:00:00-04:00</th>\n",
       "      <td>109.87</td>\n",
       "      <td>109.87</td>\n",
       "      <td>109.6600</td>\n",
       "      <td>109.6700</td>\n",
       "      <td>2069028</td>\n",
       "      <td>246.47</td>\n",
       "      <td>247.31</td>\n",
       "      <td>246.06</td>\n",
       "      <td>247.230</td>\n",
       "      <td>48543032</td>\n",
       "    </tr>\n",
       "    <tr>\n",
       "      <th>2017-08-10 00:00:00-04:00</th>\n",
       "      <td>109.70</td>\n",
       "      <td>109.85</td>\n",
       "      <td>109.6700</td>\n",
       "      <td>109.8053</td>\n",
       "      <td>1691677</td>\n",
       "      <td>246.28</td>\n",
       "      <td>246.44</td>\n",
       "      <td>243.70</td>\n",
       "      <td>243.790</td>\n",
       "      <td>87857827</td>\n",
       "    </tr>\n",
       "    <tr>\n",
       "      <th>2017-08-11 00:00:00-04:00</th>\n",
       "      <td>109.75</td>\n",
       "      <td>109.94</td>\n",
       "      <td>109.6800</td>\n",
       "      <td>109.8850</td>\n",
       "      <td>1613467</td>\n",
       "      <td>244.02</td>\n",
       "      <td>244.80</td>\n",
       "      <td>243.75</td>\n",
       "      <td>244.110</td>\n",
       "      <td>56404847</td>\n",
       "    </tr>\n",
       "  </tbody>\n",
       "</table>\n",
       "</div>"
      ],
      "text/plain": [
       "                              AGG                                       \\\n",
       "                             open    high       low     close   volume   \n",
       "time                                                                     \n",
       "2017-08-07 00:00:00-04:00  109.69  109.72  109.6066  109.6850  1425317   \n",
       "2017-08-08 00:00:00-04:00  109.67  109.69  109.5000  109.5810  1998999   \n",
       "2017-08-09 00:00:00-04:00  109.87  109.87  109.6600  109.6700  2069028   \n",
       "2017-08-10 00:00:00-04:00  109.70  109.85  109.6700  109.8053  1691677   \n",
       "2017-08-11 00:00:00-04:00  109.75  109.94  109.6800  109.8850  1613467   \n",
       "\n",
       "                              SPY                                     \n",
       "                             open    high     low    close    volume  \n",
       "time                                                                  \n",
       "2017-08-07 00:00:00-04:00  247.49  247.87  247.37  247.850  20901988  \n",
       "2017-08-08 00:00:00-04:00  247.51  248.91  246.83  247.291  44619069  \n",
       "2017-08-09 00:00:00-04:00  246.47  247.31  246.06  247.230  48543032  \n",
       "2017-08-10 00:00:00-04:00  246.28  246.44  243.70  243.790  87857827  \n",
       "2017-08-11 00:00:00-04:00  244.02  244.80  243.75  244.110  56404847  "
      ]
     },
     "metadata": {},
     "output_type": "display_data"
    },
    {
     "data": {
      "text/html": [
       "<div>\n",
       "<style scoped>\n",
       "    .dataframe tbody tr th:only-of-type {\n",
       "        vertical-align: middle;\n",
       "    }\n",
       "\n",
       "    .dataframe tbody tr th {\n",
       "        vertical-align: top;\n",
       "    }\n",
       "\n",
       "    .dataframe thead tr th {\n",
       "        text-align: left;\n",
       "    }\n",
       "\n",
       "    .dataframe thead tr:last-of-type th {\n",
       "        text-align: right;\n",
       "    }\n",
       "</style>\n",
       "<table border=\"1\" class=\"dataframe\">\n",
       "  <thead>\n",
       "    <tr>\n",
       "      <th></th>\n",
       "      <th colspan=\"5\" halign=\"left\">AGG</th>\n",
       "      <th colspan=\"5\" halign=\"left\">SPY</th>\n",
       "    </tr>\n",
       "    <tr>\n",
       "      <th></th>\n",
       "      <th>open</th>\n",
       "      <th>high</th>\n",
       "      <th>low</th>\n",
       "      <th>close</th>\n",
       "      <th>volume</th>\n",
       "      <th>open</th>\n",
       "      <th>high</th>\n",
       "      <th>low</th>\n",
       "      <th>close</th>\n",
       "      <th>volume</th>\n",
       "    </tr>\n",
       "    <tr>\n",
       "      <th>time</th>\n",
       "      <th></th>\n",
       "      <th></th>\n",
       "      <th></th>\n",
       "      <th></th>\n",
       "      <th></th>\n",
       "      <th></th>\n",
       "      <th></th>\n",
       "      <th></th>\n",
       "      <th></th>\n",
       "      <th></th>\n",
       "    </tr>\n",
       "  </thead>\n",
       "  <tbody>\n",
       "    <tr>\n",
       "      <th>2020-08-03 00:00:00-04:00</th>\n",
       "      <td>119.37</td>\n",
       "      <td>119.40</td>\n",
       "      <td>119.1903</td>\n",
       "      <td>119.400</td>\n",
       "      <td>24615464</td>\n",
       "      <td>328.3200</td>\n",
       "      <td>329.62</td>\n",
       "      <td>327.73</td>\n",
       "      <td>328.76</td>\n",
       "      <td>89861354</td>\n",
       "    </tr>\n",
       "    <tr>\n",
       "      <th>2020-08-04 00:00:00-04:00</th>\n",
       "      <td>119.42</td>\n",
       "      <td>119.63</td>\n",
       "      <td>119.4200</td>\n",
       "      <td>119.630</td>\n",
       "      <td>21512268</td>\n",
       "      <td>327.8600</td>\n",
       "      <td>330.06</td>\n",
       "      <td>327.86</td>\n",
       "      <td>330.03</td>\n",
       "      <td>73684427</td>\n",
       "    </tr>\n",
       "    <tr>\n",
       "      <th>2020-08-05 00:00:00-04:00</th>\n",
       "      <td>119.39</td>\n",
       "      <td>119.49</td>\n",
       "      <td>119.3100</td>\n",
       "      <td>119.400</td>\n",
       "      <td>34239733</td>\n",
       "      <td>331.4700</td>\n",
       "      <td>332.39</td>\n",
       "      <td>331.18</td>\n",
       "      <td>332.06</td>\n",
       "      <td>72941562</td>\n",
       "    </tr>\n",
       "    <tr>\n",
       "      <th>2020-08-06 00:00:00-04:00</th>\n",
       "      <td>119.62</td>\n",
       "      <td>119.73</td>\n",
       "      <td>119.5300</td>\n",
       "      <td>119.580</td>\n",
       "      <td>9021388</td>\n",
       "      <td>331.4799</td>\n",
       "      <td>334.46</td>\n",
       "      <td>331.13</td>\n",
       "      <td>334.31</td>\n",
       "      <td>76988181</td>\n",
       "    </tr>\n",
       "    <tr>\n",
       "      <th>2020-08-07 00:00:00-04:00</th>\n",
       "      <td>119.66</td>\n",
       "      <td>119.73</td>\n",
       "      <td>119.3950</td>\n",
       "      <td>119.445</td>\n",
       "      <td>8830420</td>\n",
       "      <td>333.2800</td>\n",
       "      <td>334.88</td>\n",
       "      <td>332.30</td>\n",
       "      <td>334.55</td>\n",
       "      <td>98710236</td>\n",
       "    </tr>\n",
       "  </tbody>\n",
       "</table>\n",
       "</div>"
      ],
      "text/plain": [
       "                              AGG                                       \\\n",
       "                             open    high       low    close    volume   \n",
       "time                                                                     \n",
       "2020-08-03 00:00:00-04:00  119.37  119.40  119.1903  119.400  24615464   \n",
       "2020-08-04 00:00:00-04:00  119.42  119.63  119.4200  119.630  21512268   \n",
       "2020-08-05 00:00:00-04:00  119.39  119.49  119.3100  119.400  34239733   \n",
       "2020-08-06 00:00:00-04:00  119.62  119.73  119.5300  119.580   9021388   \n",
       "2020-08-07 00:00:00-04:00  119.66  119.73  119.3950  119.445   8830420   \n",
       "\n",
       "                                SPY                                    \n",
       "                               open    high     low   close    volume  \n",
       "time                                                                   \n",
       "2020-08-03 00:00:00-04:00  328.3200  329.62  327.73  328.76  89861354  \n",
       "2020-08-04 00:00:00-04:00  327.8600  330.06  327.86  330.03  73684427  \n",
       "2020-08-05 00:00:00-04:00  331.4700  332.39  331.18  332.06  72941562  \n",
       "2020-08-06 00:00:00-04:00  331.4799  334.46  331.13  334.31  76988181  \n",
       "2020-08-07 00:00:00-04:00  333.2800  334.88  332.30  334.55  98710236  "
      ]
     },
     "metadata": {},
     "output_type": "display_data"
    }
   ],
   "source": [
    "# Use the Alpaca get_barset function to make the API call to get the 3 years worth of pricing data\n",
    "# The tickers and timeframe parameters should have been set in Part 1 of this activity \n",
    "# The start and end dates should be updated with the information set above\n",
    "# Remember to add the df property to the end of the call so the response is returned as a DataFrame\n",
    "prices_df = alpaca.get_barset(\n",
    "    tickers,\n",
    "    timeframe,\n",
    "    start = start_date,\n",
    "    end = end_date,\n",
    "    limit = limit_row\n",
    ").df\n",
    "\n",
    "# Display both the first and last five rows of the DataFrame\n",
    "display(prices_df.head())\n",
    "display(prices_df.tail())"
   ]
  },
  {
   "cell_type": "markdown",
   "metadata": {},
   "source": [
    "#### Step 2: Run a Monte Carlo simulation of 500 samples and 30 years for the 60/40 portfolio, and then plot the results."
   ]
  },
  {
   "cell_type": "code",
   "execution_count": 30,
   "metadata": {},
   "outputs": [
    {
     "data": {
      "text/html": [
       "<div>\n",
       "<style scoped>\n",
       "    .dataframe tbody tr th:only-of-type {\n",
       "        vertical-align: middle;\n",
       "    }\n",
       "\n",
       "    .dataframe tbody tr th {\n",
       "        vertical-align: top;\n",
       "    }\n",
       "\n",
       "    .dataframe thead tr th {\n",
       "        text-align: left;\n",
       "    }\n",
       "\n",
       "    .dataframe thead tr:last-of-type th {\n",
       "        text-align: right;\n",
       "    }\n",
       "</style>\n",
       "<table border=\"1\" class=\"dataframe\">\n",
       "  <thead>\n",
       "    <tr>\n",
       "      <th></th>\n",
       "      <th colspan=\"6\" halign=\"left\">AGG</th>\n",
       "      <th colspan=\"6\" halign=\"left\">SPY</th>\n",
       "    </tr>\n",
       "    <tr>\n",
       "      <th></th>\n",
       "      <th>open</th>\n",
       "      <th>high</th>\n",
       "      <th>low</th>\n",
       "      <th>close</th>\n",
       "      <th>volume</th>\n",
       "      <th>daily_return</th>\n",
       "      <th>open</th>\n",
       "      <th>high</th>\n",
       "      <th>low</th>\n",
       "      <th>close</th>\n",
       "      <th>volume</th>\n",
       "      <th>daily_return</th>\n",
       "    </tr>\n",
       "    <tr>\n",
       "      <th>time</th>\n",
       "      <th></th>\n",
       "      <th></th>\n",
       "      <th></th>\n",
       "      <th></th>\n",
       "      <th></th>\n",
       "      <th></th>\n",
       "      <th></th>\n",
       "      <th></th>\n",
       "      <th></th>\n",
       "      <th></th>\n",
       "      <th></th>\n",
       "      <th></th>\n",
       "    </tr>\n",
       "  </thead>\n",
       "  <tbody>\n",
       "    <tr>\n",
       "      <th>2017-08-07 00:00:00-04:00</th>\n",
       "      <td>109.69</td>\n",
       "      <td>109.72</td>\n",
       "      <td>109.6066</td>\n",
       "      <td>109.6850</td>\n",
       "      <td>1425317</td>\n",
       "      <td>NaN</td>\n",
       "      <td>247.49</td>\n",
       "      <td>247.87</td>\n",
       "      <td>247.37</td>\n",
       "      <td>247.850</td>\n",
       "      <td>20901988</td>\n",
       "      <td>NaN</td>\n",
       "    </tr>\n",
       "    <tr>\n",
       "      <th>2017-08-08 00:00:00-04:00</th>\n",
       "      <td>109.67</td>\n",
       "      <td>109.69</td>\n",
       "      <td>109.5000</td>\n",
       "      <td>109.5810</td>\n",
       "      <td>1998999</td>\n",
       "      <td>-0.000948</td>\n",
       "      <td>247.51</td>\n",
       "      <td>248.91</td>\n",
       "      <td>246.83</td>\n",
       "      <td>247.291</td>\n",
       "      <td>44619069</td>\n",
       "      <td>-0.002255</td>\n",
       "    </tr>\n",
       "    <tr>\n",
       "      <th>2017-08-09 00:00:00-04:00</th>\n",
       "      <td>109.87</td>\n",
       "      <td>109.87</td>\n",
       "      <td>109.6600</td>\n",
       "      <td>109.6700</td>\n",
       "      <td>2069028</td>\n",
       "      <td>0.000812</td>\n",
       "      <td>246.47</td>\n",
       "      <td>247.31</td>\n",
       "      <td>246.06</td>\n",
       "      <td>247.230</td>\n",
       "      <td>48543032</td>\n",
       "      <td>-0.000247</td>\n",
       "    </tr>\n",
       "    <tr>\n",
       "      <th>2017-08-10 00:00:00-04:00</th>\n",
       "      <td>109.70</td>\n",
       "      <td>109.85</td>\n",
       "      <td>109.6700</td>\n",
       "      <td>109.8053</td>\n",
       "      <td>1691677</td>\n",
       "      <td>0.001234</td>\n",
       "      <td>246.28</td>\n",
       "      <td>246.44</td>\n",
       "      <td>243.70</td>\n",
       "      <td>243.790</td>\n",
       "      <td>87857827</td>\n",
       "      <td>-0.013914</td>\n",
       "    </tr>\n",
       "    <tr>\n",
       "      <th>2017-08-11 00:00:00-04:00</th>\n",
       "      <td>109.75</td>\n",
       "      <td>109.94</td>\n",
       "      <td>109.6800</td>\n",
       "      <td>109.8850</td>\n",
       "      <td>1613467</td>\n",
       "      <td>0.000726</td>\n",
       "      <td>244.02</td>\n",
       "      <td>244.80</td>\n",
       "      <td>243.75</td>\n",
       "      <td>244.110</td>\n",
       "      <td>56404847</td>\n",
       "      <td>0.001313</td>\n",
       "    </tr>\n",
       "  </tbody>\n",
       "</table>\n",
       "</div>"
      ],
      "text/plain": [
       "                              AGG                                       \\\n",
       "                             open    high       low     close   volume   \n",
       "time                                                                     \n",
       "2017-08-07 00:00:00-04:00  109.69  109.72  109.6066  109.6850  1425317   \n",
       "2017-08-08 00:00:00-04:00  109.67  109.69  109.5000  109.5810  1998999   \n",
       "2017-08-09 00:00:00-04:00  109.87  109.87  109.6600  109.6700  2069028   \n",
       "2017-08-10 00:00:00-04:00  109.70  109.85  109.6700  109.8053  1691677   \n",
       "2017-08-11 00:00:00-04:00  109.75  109.94  109.6800  109.8850  1613467   \n",
       "\n",
       "                                           SPY                           \\\n",
       "                          daily_return    open    high     low    close   \n",
       "time                                                                      \n",
       "2017-08-07 00:00:00-04:00          NaN  247.49  247.87  247.37  247.850   \n",
       "2017-08-08 00:00:00-04:00    -0.000948  247.51  248.91  246.83  247.291   \n",
       "2017-08-09 00:00:00-04:00     0.000812  246.47  247.31  246.06  247.230   \n",
       "2017-08-10 00:00:00-04:00     0.001234  246.28  246.44  243.70  243.790   \n",
       "2017-08-11 00:00:00-04:00     0.000726  244.02  244.80  243.75  244.110   \n",
       "\n",
       "                                                  \n",
       "                             volume daily_return  \n",
       "time                                              \n",
       "2017-08-07 00:00:00-04:00  20901988          NaN  \n",
       "2017-08-08 00:00:00-04:00  44619069    -0.002255  \n",
       "2017-08-09 00:00:00-04:00  48543032    -0.000247  \n",
       "2017-08-10 00:00:00-04:00  87857827    -0.013914  \n",
       "2017-08-11 00:00:00-04:00  56404847     0.001313  "
      ]
     },
     "execution_count": 30,
     "metadata": {},
     "output_type": "execute_result"
    }
   ],
   "source": [
    "# Configure the Monte Carlo simulation to forecast 30 years cumulative returns\n",
    "# The weights should be split 40% to AGG and 60% to SPY.\n",
    "# Run 500 samples.\n",
    "MC_30_years = MCSimulation(\n",
    "  portfolio_data = prices_df,\n",
    "  weights = [.40, .60],\n",
    "  num_simulation = 500,\n",
    "  num_trading_days = 252*30\n",
    ")\n",
    "\n",
    "# Review the simulation input data\n",
    "MC_30_years.portfolio_data.head()"
   ]
  },
  {
   "cell_type": "code",
   "execution_count": 31,
   "metadata": {},
   "outputs": [
    {
     "name": "stdout",
     "output_type": "stream",
     "text": [
      "Running Monte Carlo simulation number 0.\n",
      "Running Monte Carlo simulation number 10.\n",
      "Running Monte Carlo simulation number 20.\n",
      "Running Monte Carlo simulation number 30.\n",
      "Running Monte Carlo simulation number 40.\n",
      "Running Monte Carlo simulation number 50.\n",
      "Running Monte Carlo simulation number 60.\n",
      "Running Monte Carlo simulation number 70.\n",
      "Running Monte Carlo simulation number 80.\n",
      "Running Monte Carlo simulation number 90.\n",
      "Running Monte Carlo simulation number 100.\n",
      "Running Monte Carlo simulation number 110.\n",
      "Running Monte Carlo simulation number 120.\n",
      "Running Monte Carlo simulation number 130.\n",
      "Running Monte Carlo simulation number 140.\n",
      "Running Monte Carlo simulation number 150.\n",
      "Running Monte Carlo simulation number 160.\n",
      "Running Monte Carlo simulation number 170.\n",
      "Running Monte Carlo simulation number 180.\n",
      "Running Monte Carlo simulation number 190.\n",
      "Running Monte Carlo simulation number 200.\n",
      "Running Monte Carlo simulation number 210.\n",
      "Running Monte Carlo simulation number 220.\n",
      "Running Monte Carlo simulation number 230.\n",
      "Running Monte Carlo simulation number 240.\n",
      "Running Monte Carlo simulation number 250.\n",
      "Running Monte Carlo simulation number 260.\n",
      "Running Monte Carlo simulation number 270.\n",
      "Running Monte Carlo simulation number 280.\n",
      "Running Monte Carlo simulation number 290.\n",
      "Running Monte Carlo simulation number 300.\n",
      "Running Monte Carlo simulation number 310.\n",
      "Running Monte Carlo simulation number 320.\n",
      "Running Monte Carlo simulation number 330.\n",
      "Running Monte Carlo simulation number 340.\n",
      "Running Monte Carlo simulation number 350.\n",
      "Running Monte Carlo simulation number 360.\n",
      "Running Monte Carlo simulation number 370.\n",
      "Running Monte Carlo simulation number 380.\n",
      "Running Monte Carlo simulation number 390.\n",
      "Running Monte Carlo simulation number 400.\n",
      "Running Monte Carlo simulation number 410.\n",
      "Running Monte Carlo simulation number 420.\n",
      "Running Monte Carlo simulation number 430.\n",
      "Running Monte Carlo simulation number 440.\n",
      "Running Monte Carlo simulation number 450.\n",
      "Running Monte Carlo simulation number 460.\n",
      "Running Monte Carlo simulation number 470.\n",
      "Running Monte Carlo simulation number 480.\n",
      "Running Monte Carlo simulation number 490.\n"
     ]
    },
    {
     "data": {
      "text/html": [
       "<div>\n",
       "<style scoped>\n",
       "    .dataframe tbody tr th:only-of-type {\n",
       "        vertical-align: middle;\n",
       "    }\n",
       "\n",
       "    .dataframe tbody tr th {\n",
       "        vertical-align: top;\n",
       "    }\n",
       "\n",
       "    .dataframe thead th {\n",
       "        text-align: right;\n",
       "    }\n",
       "</style>\n",
       "<table border=\"1\" class=\"dataframe\">\n",
       "  <thead>\n",
       "    <tr style=\"text-align: right;\">\n",
       "      <th></th>\n",
       "      <th>0</th>\n",
       "      <th>1</th>\n",
       "      <th>2</th>\n",
       "      <th>3</th>\n",
       "      <th>4</th>\n",
       "      <th>5</th>\n",
       "      <th>6</th>\n",
       "      <th>7</th>\n",
       "      <th>8</th>\n",
       "      <th>9</th>\n",
       "      <th>...</th>\n",
       "      <th>490</th>\n",
       "      <th>491</th>\n",
       "      <th>492</th>\n",
       "      <th>493</th>\n",
       "      <th>494</th>\n",
       "      <th>495</th>\n",
       "      <th>496</th>\n",
       "      <th>497</th>\n",
       "      <th>498</th>\n",
       "      <th>499</th>\n",
       "    </tr>\n",
       "  </thead>\n",
       "  <tbody>\n",
       "    <tr>\n",
       "      <th>0</th>\n",
       "      <td>1.000000</td>\n",
       "      <td>1.000000</td>\n",
       "      <td>1.000000</td>\n",
       "      <td>1.000000</td>\n",
       "      <td>1.000000</td>\n",
       "      <td>1.000000</td>\n",
       "      <td>1.000000</td>\n",
       "      <td>1.000000</td>\n",
       "      <td>1.000000</td>\n",
       "      <td>1.000000</td>\n",
       "      <td>...</td>\n",
       "      <td>1.000000</td>\n",
       "      <td>1.000000</td>\n",
       "      <td>1.000000</td>\n",
       "      <td>1.000000</td>\n",
       "      <td>1.000000</td>\n",
       "      <td>1.000000</td>\n",
       "      <td>1.000000</td>\n",
       "      <td>1.000000</td>\n",
       "      <td>1.000000</td>\n",
       "      <td>1.000000</td>\n",
       "    </tr>\n",
       "    <tr>\n",
       "      <th>1</th>\n",
       "      <td>0.999426</td>\n",
       "      <td>1.004705</td>\n",
       "      <td>1.002778</td>\n",
       "      <td>0.996206</td>\n",
       "      <td>1.003298</td>\n",
       "      <td>0.994476</td>\n",
       "      <td>0.999451</td>\n",
       "      <td>1.015806</td>\n",
       "      <td>1.006680</td>\n",
       "      <td>0.996741</td>\n",
       "      <td>...</td>\n",
       "      <td>0.993173</td>\n",
       "      <td>1.003082</td>\n",
       "      <td>1.002800</td>\n",
       "      <td>1.004734</td>\n",
       "      <td>1.001973</td>\n",
       "      <td>1.001310</td>\n",
       "      <td>0.997604</td>\n",
       "      <td>1.011532</td>\n",
       "      <td>0.998305</td>\n",
       "      <td>0.993400</td>\n",
       "    </tr>\n",
       "    <tr>\n",
       "      <th>2</th>\n",
       "      <td>1.008792</td>\n",
       "      <td>1.001043</td>\n",
       "      <td>1.004053</td>\n",
       "      <td>1.003206</td>\n",
       "      <td>1.002917</td>\n",
       "      <td>1.000178</td>\n",
       "      <td>1.007430</td>\n",
       "      <td>1.027941</td>\n",
       "      <td>1.027990</td>\n",
       "      <td>1.001049</td>\n",
       "      <td>...</td>\n",
       "      <td>0.989759</td>\n",
       "      <td>1.028199</td>\n",
       "      <td>0.986789</td>\n",
       "      <td>1.013293</td>\n",
       "      <td>0.999619</td>\n",
       "      <td>0.991256</td>\n",
       "      <td>1.016509</td>\n",
       "      <td>1.004607</td>\n",
       "      <td>0.995748</td>\n",
       "      <td>0.997692</td>\n",
       "    </tr>\n",
       "    <tr>\n",
       "      <th>3</th>\n",
       "      <td>1.006098</td>\n",
       "      <td>0.991862</td>\n",
       "      <td>0.998339</td>\n",
       "      <td>1.017030</td>\n",
       "      <td>0.998260</td>\n",
       "      <td>1.006380</td>\n",
       "      <td>0.993802</td>\n",
       "      <td>1.030501</td>\n",
       "      <td>1.024738</td>\n",
       "      <td>1.009689</td>\n",
       "      <td>...</td>\n",
       "      <td>1.003710</td>\n",
       "      <td>1.016429</td>\n",
       "      <td>0.996219</td>\n",
       "      <td>1.017752</td>\n",
       "      <td>0.984424</td>\n",
       "      <td>0.976708</td>\n",
       "      <td>1.019197</td>\n",
       "      <td>0.996138</td>\n",
       "      <td>0.995065</td>\n",
       "      <td>0.984593</td>\n",
       "    </tr>\n",
       "    <tr>\n",
       "      <th>4</th>\n",
       "      <td>1.024014</td>\n",
       "      <td>0.982065</td>\n",
       "      <td>0.997565</td>\n",
       "      <td>1.029197</td>\n",
       "      <td>0.994638</td>\n",
       "      <td>1.007132</td>\n",
       "      <td>1.001928</td>\n",
       "      <td>1.021368</td>\n",
       "      <td>1.024331</td>\n",
       "      <td>1.011115</td>\n",
       "      <td>...</td>\n",
       "      <td>1.005059</td>\n",
       "      <td>1.009400</td>\n",
       "      <td>0.997947</td>\n",
       "      <td>1.011998</td>\n",
       "      <td>0.978485</td>\n",
       "      <td>0.964235</td>\n",
       "      <td>1.019951</td>\n",
       "      <td>1.005944</td>\n",
       "      <td>0.971955</td>\n",
       "      <td>0.981785</td>\n",
       "    </tr>\n",
       "    <tr>\n",
       "      <th>...</th>\n",
       "      <td>...</td>\n",
       "      <td>...</td>\n",
       "      <td>...</td>\n",
       "      <td>...</td>\n",
       "      <td>...</td>\n",
       "      <td>...</td>\n",
       "      <td>...</td>\n",
       "      <td>...</td>\n",
       "      <td>...</td>\n",
       "      <td>...</td>\n",
       "      <td>...</td>\n",
       "      <td>...</td>\n",
       "      <td>...</td>\n",
       "      <td>...</td>\n",
       "      <td>...</td>\n",
       "      <td>...</td>\n",
       "      <td>...</td>\n",
       "      <td>...</td>\n",
       "      <td>...</td>\n",
       "      <td>...</td>\n",
       "      <td>...</td>\n",
       "    </tr>\n",
       "    <tr>\n",
       "      <th>7556</th>\n",
       "      <td>4.185175</td>\n",
       "      <td>19.592124</td>\n",
       "      <td>3.124807</td>\n",
       "      <td>14.988710</td>\n",
       "      <td>1.755490</td>\n",
       "      <td>11.109930</td>\n",
       "      <td>2.765153</td>\n",
       "      <td>37.558229</td>\n",
       "      <td>24.261017</td>\n",
       "      <td>7.625750</td>\n",
       "      <td>...</td>\n",
       "      <td>9.164027</td>\n",
       "      <td>33.644793</td>\n",
       "      <td>7.574913</td>\n",
       "      <td>36.613425</td>\n",
       "      <td>44.856171</td>\n",
       "      <td>6.825315</td>\n",
       "      <td>5.303538</td>\n",
       "      <td>42.598923</td>\n",
       "      <td>6.924624</td>\n",
       "      <td>20.587299</td>\n",
       "    </tr>\n",
       "    <tr>\n",
       "      <th>7557</th>\n",
       "      <td>4.171911</td>\n",
       "      <td>19.437301</td>\n",
       "      <td>3.122694</td>\n",
       "      <td>14.833554</td>\n",
       "      <td>1.759062</td>\n",
       "      <td>11.063048</td>\n",
       "      <td>2.782579</td>\n",
       "      <td>36.825754</td>\n",
       "      <td>24.315569</td>\n",
       "      <td>7.530248</td>\n",
       "      <td>...</td>\n",
       "      <td>9.137756</td>\n",
       "      <td>33.656301</td>\n",
       "      <td>7.517968</td>\n",
       "      <td>37.302148</td>\n",
       "      <td>44.965903</td>\n",
       "      <td>6.778817</td>\n",
       "      <td>5.300649</td>\n",
       "      <td>42.380570</td>\n",
       "      <td>6.985157</td>\n",
       "      <td>20.422413</td>\n",
       "    </tr>\n",
       "    <tr>\n",
       "      <th>7558</th>\n",
       "      <td>4.117604</td>\n",
       "      <td>19.706074</td>\n",
       "      <td>3.105129</td>\n",
       "      <td>14.909991</td>\n",
       "      <td>1.759455</td>\n",
       "      <td>11.318387</td>\n",
       "      <td>2.777689</td>\n",
       "      <td>36.427946</td>\n",
       "      <td>24.633407</td>\n",
       "      <td>7.704735</td>\n",
       "      <td>...</td>\n",
       "      <td>9.060004</td>\n",
       "      <td>34.072693</td>\n",
       "      <td>7.460316</td>\n",
       "      <td>37.514039</td>\n",
       "      <td>45.232932</td>\n",
       "      <td>6.712943</td>\n",
       "      <td>5.412776</td>\n",
       "      <td>42.389635</td>\n",
       "      <td>6.941185</td>\n",
       "      <td>20.255238</td>\n",
       "    </tr>\n",
       "    <tr>\n",
       "      <th>7559</th>\n",
       "      <td>4.107892</td>\n",
       "      <td>19.624447</td>\n",
       "      <td>3.112767</td>\n",
       "      <td>15.248304</td>\n",
       "      <td>1.759252</td>\n",
       "      <td>11.400132</td>\n",
       "      <td>2.772266</td>\n",
       "      <td>36.569073</td>\n",
       "      <td>24.724931</td>\n",
       "      <td>7.630920</td>\n",
       "      <td>...</td>\n",
       "      <td>8.979968</td>\n",
       "      <td>34.018850</td>\n",
       "      <td>7.531395</td>\n",
       "      <td>37.970528</td>\n",
       "      <td>45.330967</td>\n",
       "      <td>6.763448</td>\n",
       "      <td>5.399909</td>\n",
       "      <td>42.824752</td>\n",
       "      <td>6.871057</td>\n",
       "      <td>20.426617</td>\n",
       "    </tr>\n",
       "    <tr>\n",
       "      <th>7560</th>\n",
       "      <td>4.125370</td>\n",
       "      <td>20.030595</td>\n",
       "      <td>3.109513</td>\n",
       "      <td>15.181623</td>\n",
       "      <td>1.775309</td>\n",
       "      <td>11.362097</td>\n",
       "      <td>2.779831</td>\n",
       "      <td>36.610216</td>\n",
       "      <td>24.860701</td>\n",
       "      <td>7.684109</td>\n",
       "      <td>...</td>\n",
       "      <td>8.992395</td>\n",
       "      <td>33.714147</td>\n",
       "      <td>7.583150</td>\n",
       "      <td>38.362636</td>\n",
       "      <td>45.336721</td>\n",
       "      <td>6.809571</td>\n",
       "      <td>5.378729</td>\n",
       "      <td>42.640849</td>\n",
       "      <td>6.886739</td>\n",
       "      <td>20.433899</td>\n",
       "    </tr>\n",
       "  </tbody>\n",
       "</table>\n",
       "<p>7561 rows × 500 columns</p>\n",
       "</div>"
      ],
      "text/plain": [
       "           0          1         2          3         4          5         6    \\\n",
       "0     1.000000   1.000000  1.000000   1.000000  1.000000   1.000000  1.000000   \n",
       "1     0.999426   1.004705  1.002778   0.996206  1.003298   0.994476  0.999451   \n",
       "2     1.008792   1.001043  1.004053   1.003206  1.002917   1.000178  1.007430   \n",
       "3     1.006098   0.991862  0.998339   1.017030  0.998260   1.006380  0.993802   \n",
       "4     1.024014   0.982065  0.997565   1.029197  0.994638   1.007132  1.001928   \n",
       "...        ...        ...       ...        ...       ...        ...       ...   \n",
       "7556  4.185175  19.592124  3.124807  14.988710  1.755490  11.109930  2.765153   \n",
       "7557  4.171911  19.437301  3.122694  14.833554  1.759062  11.063048  2.782579   \n",
       "7558  4.117604  19.706074  3.105129  14.909991  1.759455  11.318387  2.777689   \n",
       "7559  4.107892  19.624447  3.112767  15.248304  1.759252  11.400132  2.772266   \n",
       "7560  4.125370  20.030595  3.109513  15.181623  1.775309  11.362097  2.779831   \n",
       "\n",
       "            7          8         9    ...       490        491       492  \\\n",
       "0      1.000000   1.000000  1.000000  ...  1.000000   1.000000  1.000000   \n",
       "1      1.015806   1.006680  0.996741  ...  0.993173   1.003082  1.002800   \n",
       "2      1.027941   1.027990  1.001049  ...  0.989759   1.028199  0.986789   \n",
       "3      1.030501   1.024738  1.009689  ...  1.003710   1.016429  0.996219   \n",
       "4      1.021368   1.024331  1.011115  ...  1.005059   1.009400  0.997947   \n",
       "...         ...        ...       ...  ...       ...        ...       ...   \n",
       "7556  37.558229  24.261017  7.625750  ...  9.164027  33.644793  7.574913   \n",
       "7557  36.825754  24.315569  7.530248  ...  9.137756  33.656301  7.517968   \n",
       "7558  36.427946  24.633407  7.704735  ...  9.060004  34.072693  7.460316   \n",
       "7559  36.569073  24.724931  7.630920  ...  8.979968  34.018850  7.531395   \n",
       "7560  36.610216  24.860701  7.684109  ...  8.992395  33.714147  7.583150   \n",
       "\n",
       "            493        494       495       496        497       498        499  \n",
       "0      1.000000   1.000000  1.000000  1.000000   1.000000  1.000000   1.000000  \n",
       "1      1.004734   1.001973  1.001310  0.997604   1.011532  0.998305   0.993400  \n",
       "2      1.013293   0.999619  0.991256  1.016509   1.004607  0.995748   0.997692  \n",
       "3      1.017752   0.984424  0.976708  1.019197   0.996138  0.995065   0.984593  \n",
       "4      1.011998   0.978485  0.964235  1.019951   1.005944  0.971955   0.981785  \n",
       "...         ...        ...       ...       ...        ...       ...        ...  \n",
       "7556  36.613425  44.856171  6.825315  5.303538  42.598923  6.924624  20.587299  \n",
       "7557  37.302148  44.965903  6.778817  5.300649  42.380570  6.985157  20.422413  \n",
       "7558  37.514039  45.232932  6.712943  5.412776  42.389635  6.941185  20.255238  \n",
       "7559  37.970528  45.330967  6.763448  5.399909  42.824752  6.871057  20.426617  \n",
       "7560  38.362636  45.336721  6.809571  5.378729  42.640849  6.886739  20.433899  \n",
       "\n",
       "[7561 rows x 500 columns]"
      ]
     },
     "execution_count": 31,
     "metadata": {},
     "output_type": "execute_result"
    }
   ],
   "source": [
    "# Run the Monte Carlo simulation to forecast 30 years cumulative returns\n",
    "MC_30_years.calc_cumulative_return()"
   ]
  },
  {
   "cell_type": "code",
   "execution_count": 32,
   "metadata": {},
   "outputs": [
    {
     "data": {
      "image/png": "[encoded data removed]",
      "text/plain": [
       "<Figure size 432x288 with 1 Axes>"
      ]
     },
     "metadata": {
      "needs_background": "light"
     },
     "output_type": "display_data"
    }
   ],
   "source": [
    "# Visualize the 30-year Monte Carlo simulation by creating an\n",
    "# overlay line plot\n",
    "MC_sim_line_plot_30 = MC_30_years.plot_simulation()\n",
    "\n",
    "# Save the plot for future use\n",
    "MC_sim_line_plot_30.get_figure().savefig(\"Images/MC_30years_sim_plot.png\", bbox_inches=\"tight\")"
   ]
  },
  {
   "cell_type": "markdown",
   "metadata": {},
   "source": [
    "#### Step 3: Plot the probability distribution of the Monte Carlo simulation."
   ]
  },
  {
   "cell_type": "code",
   "execution_count": 33,
   "metadata": {},
   "outputs": [
    {
     "data": {
      "image/png": "[encoded data removed]",
      "text/plain": [
       "<Figure size 432x288 with 1 Axes>"
      ]
     },
     "metadata": {
      "needs_background": "light"
     },
     "output_type": "display_data"
    }
   ],
   "source": [
    "# Visualize the probability distribution of the 30-year Monte Carlo simulation \n",
    "# by plotting a histogram\n",
    "MC_sim_dist_plot_30 = MC_30_years.plot_distribution()\n",
    "\n",
    "# Save the plot for future use\n",
    "MC_sim_dist_plot_30.get_figure().savefig('Images/MC_30years_dist_plot.png',bbox_inches='tight')"
   ]
  },
  {
   "cell_type": "markdown",
   "metadata": {},
   "source": [
    "#### Step 4: Generate the summary statistics for the Monte Carlo simulation."
   ]
  },
  {
   "cell_type": "code",
   "execution_count": 34,
   "metadata": {},
   "outputs": [
    {
     "name": "stdout",
     "output_type": "stream",
     "text": [
      "count           500.000000\n",
      "mean             14.413283\n",
      "std              13.402774\n",
      "min               1.331930\n",
      "25%               6.647846\n",
      "50%              10.178454\n",
      "75%              16.926083\n",
      "max             135.874491\n",
      "95% CI Lower      2.531332\n",
      "95% CI Upper     53.103226\n",
      "Name: 7560, dtype: float64\n"
     ]
    }
   ],
   "source": [
    "# Generate summary statistics from the 30-year Monte Carlo simulation results\n",
    "# Save the results as a variable\n",
    "MC_summary_statistics = MC_30_years.summarize_cumulative_return()\n",
    "\n",
    "# Review the 30-year Monte Carlo summary statistics\n",
    "print(MC_summary_statistics)"
   ]
  },
  {
   "cell_type": "markdown",
   "metadata": {},
   "source": [
    "### Analyze the Retirement Portfolio Forecasts"
   ]
  },
  {
   "cell_type": "code",
   "execution_count": 35,
   "metadata": {},
   "outputs": [
    {
     "name": "stdout",
     "output_type": "stream",
     "text": [
      "Total balance of the stock/bond portfolio is 60689.5.\n"
     ]
    }
   ],
   "source": [
    "# Print the current balance of the stock and bond portion of the members portfolio\n",
    "print(f\"Total balance of the stock/bond portfolio is {total_stocks_bonds}.\")"
   ]
  },
  {
   "cell_type": "code",
   "execution_count": 36,
   "metadata": {},
   "outputs": [
    {
     "name": "stdout",
     "output_type": "stream",
     "text": [
      "The lower `95%` confidence outcome is  153625.29\n",
      "The upper `95%` confidence outcome is  3222808.22\n"
     ]
    }
   ],
   "source": [
    "# Use the lower and upper `95%` confidence intervals to calculate the range of the possible outcomes for the current stock/bond portfolio\n",
    "ci_95_lower_cumulative_return = MC_summary_statistics[8] * total_stocks_bonds\n",
    "ci_95_upper_cumulative_return = MC_summary_statistics[9] * total_stocks_bonds\n",
    "\n",
    "# Print the result of your calculations\n",
    "print(f\"The lower `95%` confidence outcome is {ci_95_lower_cumulative_return: .2f}\")\n",
    "print(f\"The upper `95%` confidence outcome is {ci_95_upper_cumulative_return: .2f}\")"
   ]
  },
  {
   "cell_type": "markdown",
   "metadata": {},
   "source": [
    "### Forecast Cumulative Returns in 10 Years\n"
   ]
  },
  {
   "cell_type": "code",
   "execution_count": 37,
   "metadata": {},
   "outputs": [
    {
     "data": {
      "text/html": [
       "<div>\n",
       "<style scoped>\n",
       "    .dataframe tbody tr th:only-of-type {\n",
       "        vertical-align: middle;\n",
       "    }\n",
       "\n",
       "    .dataframe tbody tr th {\n",
       "        vertical-align: top;\n",
       "    }\n",
       "\n",
       "    .dataframe thead tr th {\n",
       "        text-align: left;\n",
       "    }\n",
       "\n",
       "    .dataframe thead tr:last-of-type th {\n",
       "        text-align: right;\n",
       "    }\n",
       "</style>\n",
       "<table border=\"1\" class=\"dataframe\">\n",
       "  <thead>\n",
       "    <tr>\n",
       "      <th></th>\n",
       "      <th colspan=\"6\" halign=\"left\">AGG</th>\n",
       "      <th colspan=\"6\" halign=\"left\">SPY</th>\n",
       "    </tr>\n",
       "    <tr>\n",
       "      <th></th>\n",
       "      <th>open</th>\n",
       "      <th>high</th>\n",
       "      <th>low</th>\n",
       "      <th>close</th>\n",
       "      <th>volume</th>\n",
       "      <th>daily_return</th>\n",
       "      <th>open</th>\n",
       "      <th>high</th>\n",
       "      <th>low</th>\n",
       "      <th>close</th>\n",
       "      <th>volume</th>\n",
       "      <th>daily_return</th>\n",
       "    </tr>\n",
       "    <tr>\n",
       "      <th>time</th>\n",
       "      <th></th>\n",
       "      <th></th>\n",
       "      <th></th>\n",
       "      <th></th>\n",
       "      <th></th>\n",
       "      <th></th>\n",
       "      <th></th>\n",
       "      <th></th>\n",
       "      <th></th>\n",
       "      <th></th>\n",
       "      <th></th>\n",
       "      <th></th>\n",
       "    </tr>\n",
       "  </thead>\n",
       "  <tbody>\n",
       "    <tr>\n",
       "      <th>2017-08-07 00:00:00-04:00</th>\n",
       "      <td>109.69</td>\n",
       "      <td>109.72</td>\n",
       "      <td>109.6066</td>\n",
       "      <td>109.6850</td>\n",
       "      <td>1425317</td>\n",
       "      <td>NaN</td>\n",
       "      <td>247.49</td>\n",
       "      <td>247.87</td>\n",
       "      <td>247.37</td>\n",
       "      <td>247.850</td>\n",
       "      <td>20901988</td>\n",
       "      <td>NaN</td>\n",
       "    </tr>\n",
       "    <tr>\n",
       "      <th>2017-08-08 00:00:00-04:00</th>\n",
       "      <td>109.67</td>\n",
       "      <td>109.69</td>\n",
       "      <td>109.5000</td>\n",
       "      <td>109.5810</td>\n",
       "      <td>1998999</td>\n",
       "      <td>-0.000948</td>\n",
       "      <td>247.51</td>\n",
       "      <td>248.91</td>\n",
       "      <td>246.83</td>\n",
       "      <td>247.291</td>\n",
       "      <td>44619069</td>\n",
       "      <td>-0.002255</td>\n",
       "    </tr>\n",
       "    <tr>\n",
       "      <th>2017-08-09 00:00:00-04:00</th>\n",
       "      <td>109.87</td>\n",
       "      <td>109.87</td>\n",
       "      <td>109.6600</td>\n",
       "      <td>109.6700</td>\n",
       "      <td>2069028</td>\n",
       "      <td>0.000812</td>\n",
       "      <td>246.47</td>\n",
       "      <td>247.31</td>\n",
       "      <td>246.06</td>\n",
       "      <td>247.230</td>\n",
       "      <td>48543032</td>\n",
       "      <td>-0.000247</td>\n",
       "    </tr>\n",
       "    <tr>\n",
       "      <th>2017-08-10 00:00:00-04:00</th>\n",
       "      <td>109.70</td>\n",
       "      <td>109.85</td>\n",
       "      <td>109.6700</td>\n",
       "      <td>109.8053</td>\n",
       "      <td>1691677</td>\n",
       "      <td>0.001234</td>\n",
       "      <td>246.28</td>\n",
       "      <td>246.44</td>\n",
       "      <td>243.70</td>\n",
       "      <td>243.790</td>\n",
       "      <td>87857827</td>\n",
       "      <td>-0.013914</td>\n",
       "    </tr>\n",
       "    <tr>\n",
       "      <th>2017-08-11 00:00:00-04:00</th>\n",
       "      <td>109.75</td>\n",
       "      <td>109.94</td>\n",
       "      <td>109.6800</td>\n",
       "      <td>109.8850</td>\n",
       "      <td>1613467</td>\n",
       "      <td>0.000726</td>\n",
       "      <td>244.02</td>\n",
       "      <td>244.80</td>\n",
       "      <td>243.75</td>\n",
       "      <td>244.110</td>\n",
       "      <td>56404847</td>\n",
       "      <td>0.001313</td>\n",
       "    </tr>\n",
       "  </tbody>\n",
       "</table>\n",
       "</div>"
      ],
      "text/plain": [
       "                              AGG                                       \\\n",
       "                             open    high       low     close   volume   \n",
       "time                                                                     \n",
       "2017-08-07 00:00:00-04:00  109.69  109.72  109.6066  109.6850  1425317   \n",
       "2017-08-08 00:00:00-04:00  109.67  109.69  109.5000  109.5810  1998999   \n",
       "2017-08-09 00:00:00-04:00  109.87  109.87  109.6600  109.6700  2069028   \n",
       "2017-08-10 00:00:00-04:00  109.70  109.85  109.6700  109.8053  1691677   \n",
       "2017-08-11 00:00:00-04:00  109.75  109.94  109.6800  109.8850  1613467   \n",
       "\n",
       "                                           SPY                           \\\n",
       "                          daily_return    open    high     low    close   \n",
       "time                                                                      \n",
       "2017-08-07 00:00:00-04:00          NaN  247.49  247.87  247.37  247.850   \n",
       "2017-08-08 00:00:00-04:00    -0.000948  247.51  248.91  246.83  247.291   \n",
       "2017-08-09 00:00:00-04:00     0.000812  246.47  247.31  246.06  247.230   \n",
       "2017-08-10 00:00:00-04:00     0.001234  246.28  246.44  243.70  243.790   \n",
       "2017-08-11 00:00:00-04:00     0.000726  244.02  244.80  243.75  244.110   \n",
       "\n",
       "                                                  \n",
       "                             volume daily_return  \n",
       "time                                              \n",
       "2017-08-07 00:00:00-04:00  20901988          NaN  \n",
       "2017-08-08 00:00:00-04:00  44619069    -0.002255  \n",
       "2017-08-09 00:00:00-04:00  48543032    -0.000247  \n",
       "2017-08-10 00:00:00-04:00  87857827    -0.013914  \n",
       "2017-08-11 00:00:00-04:00  56404847     0.001313  "
      ]
     },
     "execution_count": 37,
     "metadata": {},
     "output_type": "execute_result"
    }
   ],
   "source": [
    "# Configure a Monte Carlo simulation to forecast 10 years cumulative returns\n",
    "# The weights should be split 20% to AGG and 80% to SPY.\n",
    "# Run 500 samples.\n",
    "MC_10_years = MCSimulation(\n",
    "  portfolio_data = prices_df,\n",
    "  weights = [.20, .80],\n",
    "  num_simulation = 500,\n",
    "  num_trading_days = 252*10\n",
    ")\n",
    "\n",
    "# Review the simulation input data\n",
    "MC_10_years.portfolio_data.head()"
   ]
  },
  {
   "cell_type": "code",
   "execution_count": 38,
   "metadata": {},
   "outputs": [
    {
     "name": "stdout",
     "output_type": "stream",
     "text": [
      "Running Monte Carlo simulation number 0.\n",
      "Running Monte Carlo simulation number 10.\n",
      "Running Monte Carlo simulation number 20.\n",
      "Running Monte Carlo simulation number 30.\n",
      "Running Monte Carlo simulation number 40.\n",
      "Running Monte Carlo simulation number 50.\n",
      "Running Monte Carlo simulation number 60.\n",
      "Running Monte Carlo simulation number 70.\n",
      "Running Monte Carlo simulation number 80.\n",
      "Running Monte Carlo simulation number 90.\n",
      "Running Monte Carlo simulation number 100.\n",
      "Running Monte Carlo simulation number 110.\n",
      "Running Monte Carlo simulation number 120.\n",
      "Running Monte Carlo simulation number 130.\n",
      "Running Monte Carlo simulation number 140.\n",
      "Running Monte Carlo simulation number 150.\n",
      "Running Monte Carlo simulation number 160.\n",
      "Running Monte Carlo simulation number 170.\n",
      "Running Monte Carlo simulation number 180.\n",
      "Running Monte Carlo simulation number 190.\n",
      "Running Monte Carlo simulation number 200.\n",
      "Running Monte Carlo simulation number 210.\n",
      "Running Monte Carlo simulation number 220.\n",
      "Running Monte Carlo simulation number 230.\n",
      "Running Monte Carlo simulation number 240.\n",
      "Running Monte Carlo simulation number 250.\n",
      "Running Monte Carlo simulation number 260.\n",
      "Running Monte Carlo simulation number 270.\n",
      "Running Monte Carlo simulation number 280.\n",
      "Running Monte Carlo simulation number 290.\n",
      "Running Monte Carlo simulation number 300.\n",
      "Running Monte Carlo simulation number 310.\n",
      "Running Monte Carlo simulation number 320.\n",
      "Running Monte Carlo simulation number 330.\n",
      "Running Monte Carlo simulation number 340.\n",
      "Running Monte Carlo simulation number 350.\n",
      "Running Monte Carlo simulation number 360.\n",
      "Running Monte Carlo simulation number 370.\n",
      "Running Monte Carlo simulation number 380.\n",
      "Running Monte Carlo simulation number 390.\n",
      "Running Monte Carlo simulation number 400.\n",
      "Running Monte Carlo simulation number 410.\n",
      "Running Monte Carlo simulation number 420.\n",
      "Running Monte Carlo simulation number 430.\n",
      "Running Monte Carlo simulation number 440.\n",
      "Running Monte Carlo simulation number 450.\n",
      "Running Monte Carlo simulation number 460.\n",
      "Running Monte Carlo simulation number 470.\n",
      "Running Monte Carlo simulation number 480.\n",
      "Running Monte Carlo simulation number 490.\n"
     ]
    },
    {
     "data": {
      "text/html": [
       "<div>\n",
       "<style scoped>\n",
       "    .dataframe tbody tr th:only-of-type {\n",
       "        vertical-align: middle;\n",
       "    }\n",
       "\n",
       "    .dataframe tbody tr th {\n",
       "        vertical-align: top;\n",
       "    }\n",
       "\n",
       "    .dataframe thead th {\n",
       "        text-align: right;\n",
       "    }\n",
       "</style>\n",
       "<table border=\"1\" class=\"dataframe\">\n",
       "  <thead>\n",
       "    <tr style=\"text-align: right;\">\n",
       "      <th></th>\n",
       "      <th>0</th>\n",
       "      <th>1</th>\n",
       "      <th>2</th>\n",
       "      <th>3</th>\n",
       "      <th>4</th>\n",
       "      <th>5</th>\n",
       "      <th>6</th>\n",
       "      <th>7</th>\n",
       "      <th>8</th>\n",
       "      <th>9</th>\n",
       "      <th>...</th>\n",
       "      <th>490</th>\n",
       "      <th>491</th>\n",
       "      <th>492</th>\n",
       "      <th>493</th>\n",
       "      <th>494</th>\n",
       "      <th>495</th>\n",
       "      <th>496</th>\n",
       "      <th>497</th>\n",
       "      <th>498</th>\n",
       "      <th>499</th>\n",
       "    </tr>\n",
       "  </thead>\n",
       "  <tbody>\n",
       "    <tr>\n",
       "      <th>0</th>\n",
       "      <td>1.000000</td>\n",
       "      <td>1.000000</td>\n",
       "      <td>1.000000</td>\n",
       "      <td>1.000000</td>\n",
       "      <td>1.000000</td>\n",
       "      <td>1.000000</td>\n",
       "      <td>1.000000</td>\n",
       "      <td>1.000000</td>\n",
       "      <td>1.000000</td>\n",
       "      <td>1.000000</td>\n",
       "      <td>...</td>\n",
       "      <td>1.000000</td>\n",
       "      <td>1.000000</td>\n",
       "      <td>1.000000</td>\n",
       "      <td>1.000000</td>\n",
       "      <td>1.000000</td>\n",
       "      <td>1.000000</td>\n",
       "      <td>1.000000</td>\n",
       "      <td>1.000000</td>\n",
       "      <td>1.000000</td>\n",
       "      <td>1.000000</td>\n",
       "    </tr>\n",
       "    <tr>\n",
       "      <th>1</th>\n",
       "      <td>1.008541</td>\n",
       "      <td>0.998816</td>\n",
       "      <td>0.976312</td>\n",
       "      <td>1.008507</td>\n",
       "      <td>1.010530</td>\n",
       "      <td>0.994817</td>\n",
       "      <td>1.004083</td>\n",
       "      <td>1.006507</td>\n",
       "      <td>0.998220</td>\n",
       "      <td>1.003162</td>\n",
       "      <td>...</td>\n",
       "      <td>1.004737</td>\n",
       "      <td>0.986808</td>\n",
       "      <td>1.018550</td>\n",
       "      <td>0.997772</td>\n",
       "      <td>0.990404</td>\n",
       "      <td>1.001844</td>\n",
       "      <td>1.008035</td>\n",
       "      <td>1.015235</td>\n",
       "      <td>1.001303</td>\n",
       "      <td>1.018476</td>\n",
       "    </tr>\n",
       "    <tr>\n",
       "      <th>2</th>\n",
       "      <td>0.994266</td>\n",
       "      <td>1.009528</td>\n",
       "      <td>0.970290</td>\n",
       "      <td>1.014126</td>\n",
       "      <td>0.999823</td>\n",
       "      <td>0.992660</td>\n",
       "      <td>1.009115</td>\n",
       "      <td>1.020700</td>\n",
       "      <td>0.999935</td>\n",
       "      <td>1.000692</td>\n",
       "      <td>...</td>\n",
       "      <td>1.012287</td>\n",
       "      <td>0.999737</td>\n",
       "      <td>1.006452</td>\n",
       "      <td>0.992604</td>\n",
       "      <td>0.994394</td>\n",
       "      <td>1.000163</td>\n",
       "      <td>1.003535</td>\n",
       "      <td>0.987274</td>\n",
       "      <td>0.983055</td>\n",
       "      <td>1.020577</td>\n",
       "    </tr>\n",
       "    <tr>\n",
       "      <th>3</th>\n",
       "      <td>1.005383</td>\n",
       "      <td>1.001941</td>\n",
       "      <td>0.986847</td>\n",
       "      <td>1.005182</td>\n",
       "      <td>1.002148</td>\n",
       "      <td>0.979989</td>\n",
       "      <td>0.995870</td>\n",
       "      <td>1.014129</td>\n",
       "      <td>0.983328</td>\n",
       "      <td>1.005566</td>\n",
       "      <td>...</td>\n",
       "      <td>1.012096</td>\n",
       "      <td>0.998237</td>\n",
       "      <td>1.000262</td>\n",
       "      <td>0.991793</td>\n",
       "      <td>0.976800</td>\n",
       "      <td>1.009341</td>\n",
       "      <td>1.003481</td>\n",
       "      <td>0.999783</td>\n",
       "      <td>0.963422</td>\n",
       "      <td>1.030106</td>\n",
       "    </tr>\n",
       "    <tr>\n",
       "      <th>4</th>\n",
       "      <td>0.998143</td>\n",
       "      <td>0.993351</td>\n",
       "      <td>0.982252</td>\n",
       "      <td>1.008533</td>\n",
       "      <td>1.005795</td>\n",
       "      <td>0.974133</td>\n",
       "      <td>0.998364</td>\n",
       "      <td>1.019287</td>\n",
       "      <td>0.992608</td>\n",
       "      <td>1.006428</td>\n",
       "      <td>...</td>\n",
       "      <td>1.027949</td>\n",
       "      <td>1.000019</td>\n",
       "      <td>0.999083</td>\n",
       "      <td>0.983932</td>\n",
       "      <td>0.985428</td>\n",
       "      <td>1.018756</td>\n",
       "      <td>1.007489</td>\n",
       "      <td>1.017654</td>\n",
       "      <td>0.980885</td>\n",
       "      <td>1.032968</td>\n",
       "    </tr>\n",
       "    <tr>\n",
       "      <th>...</th>\n",
       "      <td>...</td>\n",
       "      <td>...</td>\n",
       "      <td>...</td>\n",
       "      <td>...</td>\n",
       "      <td>...</td>\n",
       "      <td>...</td>\n",
       "      <td>...</td>\n",
       "      <td>...</td>\n",
       "      <td>...</td>\n",
       "      <td>...</td>\n",
       "      <td>...</td>\n",
       "      <td>...</td>\n",
       "      <td>...</td>\n",
       "      <td>...</td>\n",
       "      <td>...</td>\n",
       "      <td>...</td>\n",
       "      <td>...</td>\n",
       "      <td>...</td>\n",
       "      <td>...</td>\n",
       "      <td>...</td>\n",
       "      <td>...</td>\n",
       "    </tr>\n",
       "    <tr>\n",
       "      <th>2516</th>\n",
       "      <td>3.634683</td>\n",
       "      <td>1.422968</td>\n",
       "      <td>0.875940</td>\n",
       "      <td>1.370012</td>\n",
       "      <td>2.621089</td>\n",
       "      <td>1.068965</td>\n",
       "      <td>2.743250</td>\n",
       "      <td>6.307346</td>\n",
       "      <td>3.167735</td>\n",
       "      <td>4.623279</td>\n",
       "      <td>...</td>\n",
       "      <td>2.079970</td>\n",
       "      <td>0.868895</td>\n",
       "      <td>3.614716</td>\n",
       "      <td>1.751029</td>\n",
       "      <td>2.265880</td>\n",
       "      <td>4.810102</td>\n",
       "      <td>1.864010</td>\n",
       "      <td>1.320429</td>\n",
       "      <td>4.132275</td>\n",
       "      <td>5.012864</td>\n",
       "    </tr>\n",
       "    <tr>\n",
       "      <th>2517</th>\n",
       "      <td>3.590136</td>\n",
       "      <td>1.404459</td>\n",
       "      <td>0.866796</td>\n",
       "      <td>1.377859</td>\n",
       "      <td>2.622292</td>\n",
       "      <td>1.074960</td>\n",
       "      <td>2.804238</td>\n",
       "      <td>6.266005</td>\n",
       "      <td>3.125232</td>\n",
       "      <td>4.620618</td>\n",
       "      <td>...</td>\n",
       "      <td>2.091081</td>\n",
       "      <td>0.869441</td>\n",
       "      <td>3.576647</td>\n",
       "      <td>1.749671</td>\n",
       "      <td>2.258694</td>\n",
       "      <td>4.893936</td>\n",
       "      <td>1.860303</td>\n",
       "      <td>1.331952</td>\n",
       "      <td>4.097021</td>\n",
       "      <td>4.915718</td>\n",
       "    </tr>\n",
       "    <tr>\n",
       "      <th>2518</th>\n",
       "      <td>3.591021</td>\n",
       "      <td>1.437709</td>\n",
       "      <td>0.860780</td>\n",
       "      <td>1.404462</td>\n",
       "      <td>2.629075</td>\n",
       "      <td>1.072659</td>\n",
       "      <td>2.851237</td>\n",
       "      <td>6.397560</td>\n",
       "      <td>3.163210</td>\n",
       "      <td>4.661115</td>\n",
       "      <td>...</td>\n",
       "      <td>2.114046</td>\n",
       "      <td>0.870178</td>\n",
       "      <td>3.615497</td>\n",
       "      <td>1.774115</td>\n",
       "      <td>2.305534</td>\n",
       "      <td>4.902650</td>\n",
       "      <td>1.886852</td>\n",
       "      <td>1.344889</td>\n",
       "      <td>4.069853</td>\n",
       "      <td>4.863991</td>\n",
       "    </tr>\n",
       "    <tr>\n",
       "      <th>2519</th>\n",
       "      <td>3.633699</td>\n",
       "      <td>1.440979</td>\n",
       "      <td>0.879273</td>\n",
       "      <td>1.387053</td>\n",
       "      <td>2.638197</td>\n",
       "      <td>1.062834</td>\n",
       "      <td>2.852164</td>\n",
       "      <td>6.269288</td>\n",
       "      <td>3.183890</td>\n",
       "      <td>4.728797</td>\n",
       "      <td>...</td>\n",
       "      <td>2.093142</td>\n",
       "      <td>0.868872</td>\n",
       "      <td>3.555360</td>\n",
       "      <td>1.782627</td>\n",
       "      <td>2.320046</td>\n",
       "      <td>4.864454</td>\n",
       "      <td>1.886088</td>\n",
       "      <td>1.355519</td>\n",
       "      <td>4.080986</td>\n",
       "      <td>4.917304</td>\n",
       "    </tr>\n",
       "    <tr>\n",
       "      <th>2520</th>\n",
       "      <td>3.622189</td>\n",
       "      <td>1.445524</td>\n",
       "      <td>0.880106</td>\n",
       "      <td>1.415399</td>\n",
       "      <td>2.725332</td>\n",
       "      <td>1.056975</td>\n",
       "      <td>2.853873</td>\n",
       "      <td>6.303701</td>\n",
       "      <td>3.215946</td>\n",
       "      <td>4.817852</td>\n",
       "      <td>...</td>\n",
       "      <td>2.111088</td>\n",
       "      <td>0.880700</td>\n",
       "      <td>3.523685</td>\n",
       "      <td>1.727109</td>\n",
       "      <td>2.289575</td>\n",
       "      <td>4.823198</td>\n",
       "      <td>1.915281</td>\n",
       "      <td>1.358065</td>\n",
       "      <td>4.125968</td>\n",
       "      <td>4.865076</td>\n",
       "    </tr>\n",
       "  </tbody>\n",
       "</table>\n",
       "<p>2521 rows × 500 columns</p>\n",
       "</div>"
      ],
      "text/plain": [
       "           0         1         2         3         4         5         6    \\\n",
       "0     1.000000  1.000000  1.000000  1.000000  1.000000  1.000000  1.000000   \n",
       "1     1.008541  0.998816  0.976312  1.008507  1.010530  0.994817  1.004083   \n",
       "2     0.994266  1.009528  0.970290  1.014126  0.999823  0.992660  1.009115   \n",
       "3     1.005383  1.001941  0.986847  1.005182  1.002148  0.979989  0.995870   \n",
       "4     0.998143  0.993351  0.982252  1.008533  1.005795  0.974133  0.998364   \n",
       "...        ...       ...       ...       ...       ...       ...       ...   \n",
       "2516  3.634683  1.422968  0.875940  1.370012  2.621089  1.068965  2.743250   \n",
       "2517  3.590136  1.404459  0.866796  1.377859  2.622292  1.074960  2.804238   \n",
       "2518  3.591021  1.437709  0.860780  1.404462  2.629075  1.072659  2.851237   \n",
       "2519  3.633699  1.440979  0.879273  1.387053  2.638197  1.062834  2.852164   \n",
       "2520  3.622189  1.445524  0.880106  1.415399  2.725332  1.056975  2.853873   \n",
       "\n",
       "           7         8         9    ...       490       491       492  \\\n",
       "0     1.000000  1.000000  1.000000  ...  1.000000  1.000000  1.000000   \n",
       "1     1.006507  0.998220  1.003162  ...  1.004737  0.986808  1.018550   \n",
       "2     1.020700  0.999935  1.000692  ...  1.012287  0.999737  1.006452   \n",
       "3     1.014129  0.983328  1.005566  ...  1.012096  0.998237  1.000262   \n",
       "4     1.019287  0.992608  1.006428  ...  1.027949  1.000019  0.999083   \n",
       "...        ...       ...       ...  ...       ...       ...       ...   \n",
       "2516  6.307346  3.167735  4.623279  ...  2.079970  0.868895  3.614716   \n",
       "2517  6.266005  3.125232  4.620618  ...  2.091081  0.869441  3.576647   \n",
       "2518  6.397560  3.163210  4.661115  ...  2.114046  0.870178  3.615497   \n",
       "2519  6.269288  3.183890  4.728797  ...  2.093142  0.868872  3.555360   \n",
       "2520  6.303701  3.215946  4.817852  ...  2.111088  0.880700  3.523685   \n",
       "\n",
       "           493       494       495       496       497       498       499  \n",
       "0     1.000000  1.000000  1.000000  1.000000  1.000000  1.000000  1.000000  \n",
       "1     0.997772  0.990404  1.001844  1.008035  1.015235  1.001303  1.018476  \n",
       "2     0.992604  0.994394  1.000163  1.003535  0.987274  0.983055  1.020577  \n",
       "3     0.991793  0.976800  1.009341  1.003481  0.999783  0.963422  1.030106  \n",
       "4     0.983932  0.985428  1.018756  1.007489  1.017654  0.980885  1.032968  \n",
       "...        ...       ...       ...       ...       ...       ...       ...  \n",
       "2516  1.751029  2.265880  4.810102  1.864010  1.320429  4.132275  5.012864  \n",
       "2517  1.749671  2.258694  4.893936  1.860303  1.331952  4.097021  4.915718  \n",
       "2518  1.774115  2.305534  4.902650  1.886852  1.344889  4.069853  4.863991  \n",
       "2519  1.782627  2.320046  4.864454  1.886088  1.355519  4.080986  4.917304  \n",
       "2520  1.727109  2.289575  4.823198  1.915281  1.358065  4.125968  4.865076  \n",
       "\n",
       "[2521 rows x 500 columns]"
      ]
     },
     "execution_count": 38,
     "metadata": {},
     "output_type": "execute_result"
    }
   ],
   "source": [
    "# Run the Monte Carlo simulation to forecast 10 years cumulative returns\n",
    "MC_10_years.calc_cumulative_return()"
   ]
  },
  {
   "cell_type": "code",
   "execution_count": 39,
   "metadata": {},
   "outputs": [
    {
     "data": {
      "image/png": "[encoded data removed]",
      "text/plain": [
       "<Figure size 432x288 with 1 Axes>"
      ]
     },
     "metadata": {
      "needs_background": "light"
     },
     "output_type": "display_data"
    }
   ],
   "source": [
    "# Visualize the 10-year Monte Carlo simulation by creating an\n",
    "# overlay line plot\n",
    "MC_sim_line_plot_10 = MC_10_years.plot_simulation()\n",
    "\n",
    "# Save the plot for future use\n",
    "MC_sim_line_plot_10.get_figure().savefig(\"Images/MC_10years_sim_plot.png\", bbox_inches=\"tight\")"
   ]
  },
  {
   "cell_type": "code",
   "execution_count": 40,
   "metadata": {},
   "outputs": [
    {
     "data": {
      "image/png": "[encoded data removed]",
      "text/plain": [
       "<Figure size 432x288 with 1 Axes>"
      ]
     },
     "metadata": {
      "needs_background": "light"
     },
     "output_type": "display_data"
    }
   ],
   "source": [
    "# Visualize the probability distribution of the 10-year Monte Carlo simulation \n",
    "# by plotting a histogram\n",
    "MC_sim_dist_plot_10 = MC_10_years.plot_distribution()\n",
    "\n",
    "# Save the plot for future use\n",
    "MC_sim_dist_plot_10.get_figure().savefig('Images/MC_10years_dist_plot.png',bbox_inches='tight')"
   ]
  },
  {
   "cell_type": "code",
   "execution_count": 41,
   "metadata": {},
   "outputs": [
    {
     "name": "stdout",
     "output_type": "stream",
     "text": [
      "count           500.000000\n",
      "mean              2.898530\n",
      "std               1.722821\n",
      "min               0.520191\n",
      "25%               1.627413\n",
      "50%               2.478205\n",
      "75%               3.745337\n",
      "max              11.947980\n",
      "95% CI Lower      0.839047\n",
      "95% CI Upper      7.209262\n",
      "Name: 2520, dtype: float64\n"
     ]
    }
   ],
   "source": [
    "# Generate summary statistics from the 10-year Monte Carlo simulation results\n",
    "# Save the results as a variable\n",
    "MC_summary_statistics_10 = MC_10_years.summarize_cumulative_return()\n",
    "\n",
    "# Print summary statistics Series\n",
    "print(MC_summary_statistics_10)"
   ]
  },
  {
   "cell_type": "markdown",
   "metadata": {},
   "source": [
    "### Answer the following questions:"
   ]
  },
  {
   "cell_type": "markdown",
   "metadata": {},
   "source": [
    "#### Question: Using the current value of only the stock and bond portion of the member's portfolio and the summary statistics that you generated from the new Monte Carlo simulation, what are the lower and upper bounds for the expected value of the portfolio (with the new weights) with a 95% confidence interval?"
   ]
  },
  {
   "cell_type": "code",
   "execution_count": 42,
   "metadata": {},
   "outputs": [
    {
     "name": "stdout",
     "output_type": "stream",
     "text": [
      "Current balance of the stock is 23889.0 and bond is 36800.5.Total is 60689.5.\n"
     ]
    }
   ],
   "source": [
    "# Print the current balance of the stock and bond portion of the members portfolio\n",
    "print(f\"Current balance of the stock is {agg_value} and bond is {spy_value}.Total is {total_stocks_bonds}.\")\n"
   ]
  },
  {
   "cell_type": "code",
   "execution_count": 43,
   "metadata": {},
   "outputs": [
    {
     "name": "stdout",
     "output_type": "stream",
     "text": [
      "The lower `95%` confidence outcome is  50921.35\n",
      "The upper `95%` confidence outcome is  437526.48\n"
     ]
    }
   ],
   "source": [
    "# Use the lower and upper `95%` confidence intervals to calculate the range of the possible outcomes for the current stock/bond portfolio\n",
    "ci_95_lower_cumulative_return_10 = MC_summary_statistics_10[8] * total_stocks_bonds\n",
    "ci_95_upper_cumulative_return_10 = MC_summary_statistics_10[9] * total_stocks_bonds\n",
    "\n",
    "# Print the result of your calculations\n",
    "print(f\"The lower `95%` confidence outcome is {ci_95_lower_cumulative_return_10: .2f}\")\n",
    "print(f\"The upper `95%` confidence outcome is {ci_95_upper_cumulative_return_10: .2f}\")"
   ]
  },
  {
   "cell_type": "markdown",
   "metadata": {},
   "source": [
    "#### Question: Will weighting the portfolio more heavily to stocks allow the credit union members to retire after only 10 years?"
   ]
  },
  {
   "cell_type": "raw",
   "metadata": {},
   "source": [
    "**Answer** # Reducing the investment period from 30 years to 10 years, but at the same time increasing the share of shares to 80%, will not make it possible to retire earlier. There is a 95% chance that an initial investment of $60689.5 in the portfolio over the next 10 years will end within in the range of $ 50921.35 and $ 437526.48 and it is too low for retirement."
   ]
  },
  {
   "cell_type": "code",
   "execution_count": null,
   "metadata": {},
   "outputs": [],
   "source": []
  }
 ],
 "metadata": {
  "kernelspec": {
   "display_name": "Python (dev)",
   "language": "python",
   "name": "dev"
  },
  "language_info": {
   "codemirror_mode": {
    "name": "ipython",
    "version": 3
   },
   "file_extension": ".py",
   "mimetype": "text/x-python",
   "name": "python",
   "nbconvert_exporter": "python",
   "pygments_lexer": "ipython3",
   "version": "3.7.10"
  }
 },
 "nbformat": 4,
 "nbformat_minor": 4
}
